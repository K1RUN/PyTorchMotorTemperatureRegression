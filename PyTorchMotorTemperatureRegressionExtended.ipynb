{
  "nbformat": 4,
  "nbformat_minor": 0,
  "metadata": {
    "colab": {
      "provenance": [],
      "gpuType": "T4",
      "authorship_tag": "ABX9TyOklEiGtvDjm7PgaUIwihLU",
      "include_colab_link": true
    },
    "kernelspec": {
      "name": "python3",
      "display_name": "Python 3"
    },
    "language_info": {
      "name": "python"
    },
    "accelerator": "GPU"
  },
  "cells": [
    {
      "cell_type": "markdown",
      "metadata": {
        "id": "view-in-github",
        "colab_type": "text"
      },
      "source": [
        "<a href=\"https://colab.research.google.com/github/K1RUN/PyTorchMotorTemperatureRegression/blob/main/PyTorchMotorTemperatureRegressionExtended.ipynb\" target=\"_parent\"><img src=\"https://colab.research.google.com/assets/colab-badge.svg\" alt=\"Open In Colab\"/></a>"
      ]
    },
    {
      "cell_type": "code",
      "execution_count": 1,
      "metadata": {
        "id": "wIH0mykOfGMq"
      },
      "outputs": [],
      "source": [
        "!pip install -q kaggle"
      ]
    },
    {
      "cell_type": "code",
      "source": [
        "from google.colab import files\n",
        "\n",
        "files.upload()"
      ],
      "metadata": {
        "id": "UaBR7abCfrk6",
        "collapsed": true
      },
      "execution_count": null,
      "outputs": []
    },
    {
      "cell_type": "code",
      "source": [
        "! mkdir ~/.kaggle\n",
        "\n",
        "! cp kaggle.json ~/.kaggle/"
      ],
      "metadata": {
        "id": "oHf0WLJYfwLP"
      },
      "execution_count": null,
      "outputs": []
    },
    {
      "cell_type": "code",
      "source": [
        "! chmod 600 ~/.kaggle/kaggle.json"
      ],
      "metadata": {
        "id": "e9QvfPa8f2Fs"
      },
      "execution_count": 4,
      "outputs": []
    },
    {
      "cell_type": "code",
      "source": [
        "! kaggle datasets download -d wkirgsn/electric-motor-temperature"
      ],
      "metadata": {
        "colab": {
          "base_uri": "https://localhost:8080/"
        },
        "id": "FLTiIJ09gA1I",
        "outputId": "f251c7ca-5c41-4fcc-b1bc-81be6ae93f7d"
      },
      "execution_count": 5,
      "outputs": [
        {
          "output_type": "stream",
          "name": "stdout",
          "text": [
            "Dataset URL: https://www.kaggle.com/datasets/wkirgsn/electric-motor-temperature\n",
            "License(s): CC-BY-SA-4.0\n",
            "Downloading electric-motor-temperature.zip to /content\n",
            " 97% 113M/117M [00:03<00:00, 43.1MB/s]\n",
            "100% 117M/117M [00:03<00:00, 35.6MB/s]\n"
          ]
        }
      ]
    },
    {
      "cell_type": "code",
      "source": [
        "! unzip electric-motor-temperature.zip"
      ],
      "metadata": {
        "colab": {
          "base_uri": "https://localhost:8080/"
        },
        "id": "abygnx3ng8rn",
        "outputId": "bda90ab4-62d9-4fe4-8da9-a9b40c0fc9b2"
      },
      "execution_count": 6,
      "outputs": [
        {
          "output_type": "stream",
          "name": "stdout",
          "text": [
            "Archive:  electric-motor-temperature.zip\n",
            "  inflating: measures_v2.csv         \n"
          ]
        }
      ]
    },
    {
      "cell_type": "code",
      "source": [
        "import pandas as pd\n",
        "import seaborn as sns\n",
        "import matplotlib.pyplot as plt"
      ],
      "metadata": {
        "id": "Md32voKxhnHR"
      },
      "execution_count": 7,
      "outputs": []
    },
    {
      "cell_type": "code",
      "source": [
        "df = pd.read_csv('measures_v2.csv')\n",
        "df.drop('profile_id', axis=1, inplace=True)"
      ],
      "metadata": {
        "id": "sbEKhxqkhLHR"
      },
      "execution_count": 8,
      "outputs": []
    },
    {
      "cell_type": "code",
      "source": [
        "df"
      ],
      "metadata": {
        "colab": {
          "base_uri": "https://localhost:8080/",
          "height": 424
        },
        "id": "1ErCXTk_hmEt",
        "outputId": "263fb796-26b2-46d2-a59b-a634d0ee298b"
      },
      "execution_count": 9,
      "outputs": [
        {
          "output_type": "execute_result",
          "data": {
            "text/plain": [
              "              u_q    coolant  stator_winding       u_d  stator_tooth  \\\n",
              "0       -0.450682  18.805172       19.086670 -0.350055     18.293219   \n",
              "1       -0.325737  18.818571       19.092390 -0.305803     18.294807   \n",
              "2       -0.440864  18.828770       19.089380 -0.372503     18.294094   \n",
              "3       -0.327026  18.835567       19.083031 -0.316199     18.292542   \n",
              "4       -0.471150  18.857033       19.082525 -0.332272     18.291428   \n",
              "...           ...        ...             ...       ...           ...   \n",
              "1330811 -2.152128  30.721298       45.274497  0.791801     41.934347   \n",
              "1330812 -2.258684  30.721306       45.239017  0.778900     41.868923   \n",
              "1330813 -2.130312  30.721312       45.211576  0.804914     41.804819   \n",
              "1330814 -2.268498  30.721316       45.193508  0.763091     41.762220   \n",
              "1330815 -2.100158  30.721319       45.132307  0.807309     41.734763   \n",
              "\n",
              "         motor_speed       i_d       i_q         pm  stator_yoke    ambient  \\\n",
              "0           0.002866  0.004419  0.000328  24.554214    18.316547  19.850691   \n",
              "1           0.000257  0.000606 -0.000785  24.538078    18.314955  19.850672   \n",
              "2           0.002355  0.001290  0.000386  24.544693    18.326307  19.850657   \n",
              "3           0.006105  0.000026  0.002046  24.554018    18.330833  19.850647   \n",
              "4           0.003133 -0.064317  0.037184  24.565397    18.326662  19.850639   \n",
              "...              ...       ...       ...        ...          ...        ...   \n",
              "1330811     0.000380 -2.000169  1.097528  62.147780    38.653720  23.989078   \n",
              "1330812     0.002985 -2.000499  1.097569  62.142646    38.656328  23.970700   \n",
              "1330813     0.002301 -1.999268  1.098765  62.138387    38.650923  23.977234   \n",
              "1330814     0.005662 -2.000999  1.095696  62.133422    38.655686  24.001421   \n",
              "1330815     0.004395 -2.000792  1.096487  62.131429    38.660370  24.027522   \n",
              "\n",
              "               torque  \n",
              "0        1.871008e-01  \n",
              "1        2.454175e-01  \n",
              "2        1.766153e-01  \n",
              "3        2.383027e-01  \n",
              "4        2.081967e-01  \n",
              "...               ...  \n",
              "1330811 -8.116730e-60  \n",
              "1330812 -5.815891e-60  \n",
              "1330813 -4.167268e-60  \n",
              "1330814 -2.985978e-60  \n",
              "1330815 -2.139547e-60  \n",
              "\n",
              "[1330816 rows x 12 columns]"
            ],
            "text/html": [
              "\n",
              "  <div id=\"df-36cf2b81-c3a4-474e-9791-8e93861e5967\" class=\"colab-df-container\">\n",
              "    <div>\n",
              "<style scoped>\n",
              "    .dataframe tbody tr th:only-of-type {\n",
              "        vertical-align: middle;\n",
              "    }\n",
              "\n",
              "    .dataframe tbody tr th {\n",
              "        vertical-align: top;\n",
              "    }\n",
              "\n",
              "    .dataframe thead th {\n",
              "        text-align: right;\n",
              "    }\n",
              "</style>\n",
              "<table border=\"1\" class=\"dataframe\">\n",
              "  <thead>\n",
              "    <tr style=\"text-align: right;\">\n",
              "      <th></th>\n",
              "      <th>u_q</th>\n",
              "      <th>coolant</th>\n",
              "      <th>stator_winding</th>\n",
              "      <th>u_d</th>\n",
              "      <th>stator_tooth</th>\n",
              "      <th>motor_speed</th>\n",
              "      <th>i_d</th>\n",
              "      <th>i_q</th>\n",
              "      <th>pm</th>\n",
              "      <th>stator_yoke</th>\n",
              "      <th>ambient</th>\n",
              "      <th>torque</th>\n",
              "    </tr>\n",
              "  </thead>\n",
              "  <tbody>\n",
              "    <tr>\n",
              "      <th>0</th>\n",
              "      <td>-0.450682</td>\n",
              "      <td>18.805172</td>\n",
              "      <td>19.086670</td>\n",
              "      <td>-0.350055</td>\n",
              "      <td>18.293219</td>\n",
              "      <td>0.002866</td>\n",
              "      <td>0.004419</td>\n",
              "      <td>0.000328</td>\n",
              "      <td>24.554214</td>\n",
              "      <td>18.316547</td>\n",
              "      <td>19.850691</td>\n",
              "      <td>1.871008e-01</td>\n",
              "    </tr>\n",
              "    <tr>\n",
              "      <th>1</th>\n",
              "      <td>-0.325737</td>\n",
              "      <td>18.818571</td>\n",
              "      <td>19.092390</td>\n",
              "      <td>-0.305803</td>\n",
              "      <td>18.294807</td>\n",
              "      <td>0.000257</td>\n",
              "      <td>0.000606</td>\n",
              "      <td>-0.000785</td>\n",
              "      <td>24.538078</td>\n",
              "      <td>18.314955</td>\n",
              "      <td>19.850672</td>\n",
              "      <td>2.454175e-01</td>\n",
              "    </tr>\n",
              "    <tr>\n",
              "      <th>2</th>\n",
              "      <td>-0.440864</td>\n",
              "      <td>18.828770</td>\n",
              "      <td>19.089380</td>\n",
              "      <td>-0.372503</td>\n",
              "      <td>18.294094</td>\n",
              "      <td>0.002355</td>\n",
              "      <td>0.001290</td>\n",
              "      <td>0.000386</td>\n",
              "      <td>24.544693</td>\n",
              "      <td>18.326307</td>\n",
              "      <td>19.850657</td>\n",
              "      <td>1.766153e-01</td>\n",
              "    </tr>\n",
              "    <tr>\n",
              "      <th>3</th>\n",
              "      <td>-0.327026</td>\n",
              "      <td>18.835567</td>\n",
              "      <td>19.083031</td>\n",
              "      <td>-0.316199</td>\n",
              "      <td>18.292542</td>\n",
              "      <td>0.006105</td>\n",
              "      <td>0.000026</td>\n",
              "      <td>0.002046</td>\n",
              "      <td>24.554018</td>\n",
              "      <td>18.330833</td>\n",
              "      <td>19.850647</td>\n",
              "      <td>2.383027e-01</td>\n",
              "    </tr>\n",
              "    <tr>\n",
              "      <th>4</th>\n",
              "      <td>-0.471150</td>\n",
              "      <td>18.857033</td>\n",
              "      <td>19.082525</td>\n",
              "      <td>-0.332272</td>\n",
              "      <td>18.291428</td>\n",
              "      <td>0.003133</td>\n",
              "      <td>-0.064317</td>\n",
              "      <td>0.037184</td>\n",
              "      <td>24.565397</td>\n",
              "      <td>18.326662</td>\n",
              "      <td>19.850639</td>\n",
              "      <td>2.081967e-01</td>\n",
              "    </tr>\n",
              "    <tr>\n",
              "      <th>...</th>\n",
              "      <td>...</td>\n",
              "      <td>...</td>\n",
              "      <td>...</td>\n",
              "      <td>...</td>\n",
              "      <td>...</td>\n",
              "      <td>...</td>\n",
              "      <td>...</td>\n",
              "      <td>...</td>\n",
              "      <td>...</td>\n",
              "      <td>...</td>\n",
              "      <td>...</td>\n",
              "      <td>...</td>\n",
              "    </tr>\n",
              "    <tr>\n",
              "      <th>1330811</th>\n",
              "      <td>-2.152128</td>\n",
              "      <td>30.721298</td>\n",
              "      <td>45.274497</td>\n",
              "      <td>0.791801</td>\n",
              "      <td>41.934347</td>\n",
              "      <td>0.000380</td>\n",
              "      <td>-2.000169</td>\n",
              "      <td>1.097528</td>\n",
              "      <td>62.147780</td>\n",
              "      <td>38.653720</td>\n",
              "      <td>23.989078</td>\n",
              "      <td>-8.116730e-60</td>\n",
              "    </tr>\n",
              "    <tr>\n",
              "      <th>1330812</th>\n",
              "      <td>-2.258684</td>\n",
              "      <td>30.721306</td>\n",
              "      <td>45.239017</td>\n",
              "      <td>0.778900</td>\n",
              "      <td>41.868923</td>\n",
              "      <td>0.002985</td>\n",
              "      <td>-2.000499</td>\n",
              "      <td>1.097569</td>\n",
              "      <td>62.142646</td>\n",
              "      <td>38.656328</td>\n",
              "      <td>23.970700</td>\n",
              "      <td>-5.815891e-60</td>\n",
              "    </tr>\n",
              "    <tr>\n",
              "      <th>1330813</th>\n",
              "      <td>-2.130312</td>\n",
              "      <td>30.721312</td>\n",
              "      <td>45.211576</td>\n",
              "      <td>0.804914</td>\n",
              "      <td>41.804819</td>\n",
              "      <td>0.002301</td>\n",
              "      <td>-1.999268</td>\n",
              "      <td>1.098765</td>\n",
              "      <td>62.138387</td>\n",
              "      <td>38.650923</td>\n",
              "      <td>23.977234</td>\n",
              "      <td>-4.167268e-60</td>\n",
              "    </tr>\n",
              "    <tr>\n",
              "      <th>1330814</th>\n",
              "      <td>-2.268498</td>\n",
              "      <td>30.721316</td>\n",
              "      <td>45.193508</td>\n",
              "      <td>0.763091</td>\n",
              "      <td>41.762220</td>\n",
              "      <td>0.005662</td>\n",
              "      <td>-2.000999</td>\n",
              "      <td>1.095696</td>\n",
              "      <td>62.133422</td>\n",
              "      <td>38.655686</td>\n",
              "      <td>24.001421</td>\n",
              "      <td>-2.985978e-60</td>\n",
              "    </tr>\n",
              "    <tr>\n",
              "      <th>1330815</th>\n",
              "      <td>-2.100158</td>\n",
              "      <td>30.721319</td>\n",
              "      <td>45.132307</td>\n",
              "      <td>0.807309</td>\n",
              "      <td>41.734763</td>\n",
              "      <td>0.004395</td>\n",
              "      <td>-2.000792</td>\n",
              "      <td>1.096487</td>\n",
              "      <td>62.131429</td>\n",
              "      <td>38.660370</td>\n",
              "      <td>24.027522</td>\n",
              "      <td>-2.139547e-60</td>\n",
              "    </tr>\n",
              "  </tbody>\n",
              "</table>\n",
              "<p>1330816 rows × 12 columns</p>\n",
              "</div>\n",
              "    <div class=\"colab-df-buttons\">\n",
              "\n",
              "  <div class=\"colab-df-container\">\n",
              "    <button class=\"colab-df-convert\" onclick=\"convertToInteractive('df-36cf2b81-c3a4-474e-9791-8e93861e5967')\"\n",
              "            title=\"Convert this dataframe to an interactive table.\"\n",
              "            style=\"display:none;\">\n",
              "\n",
              "  <svg xmlns=\"http://www.w3.org/2000/svg\" height=\"24px\" viewBox=\"0 -960 960 960\">\n",
              "    <path d=\"M120-120v-720h720v720H120Zm60-500h600v-160H180v160Zm220 220h160v-160H400v160Zm0 220h160v-160H400v160ZM180-400h160v-160H180v160Zm440 0h160v-160H620v160ZM180-180h160v-160H180v160Zm440 0h160v-160H620v160Z\"/>\n",
              "  </svg>\n",
              "    </button>\n",
              "\n",
              "  <style>\n",
              "    .colab-df-container {\n",
              "      display:flex;\n",
              "      gap: 12px;\n",
              "    }\n",
              "\n",
              "    .colab-df-convert {\n",
              "      background-color: #E8F0FE;\n",
              "      border: none;\n",
              "      border-radius: 50%;\n",
              "      cursor: pointer;\n",
              "      display: none;\n",
              "      fill: #1967D2;\n",
              "      height: 32px;\n",
              "      padding: 0 0 0 0;\n",
              "      width: 32px;\n",
              "    }\n",
              "\n",
              "    .colab-df-convert:hover {\n",
              "      background-color: #E2EBFA;\n",
              "      box-shadow: 0px 1px 2px rgba(60, 64, 67, 0.3), 0px 1px 3px 1px rgba(60, 64, 67, 0.15);\n",
              "      fill: #174EA6;\n",
              "    }\n",
              "\n",
              "    .colab-df-buttons div {\n",
              "      margin-bottom: 4px;\n",
              "    }\n",
              "\n",
              "    [theme=dark] .colab-df-convert {\n",
              "      background-color: #3B4455;\n",
              "      fill: #D2E3FC;\n",
              "    }\n",
              "\n",
              "    [theme=dark] .colab-df-convert:hover {\n",
              "      background-color: #434B5C;\n",
              "      box-shadow: 0px 1px 3px 1px rgba(0, 0, 0, 0.15);\n",
              "      filter: drop-shadow(0px 1px 2px rgba(0, 0, 0, 0.3));\n",
              "      fill: #FFFFFF;\n",
              "    }\n",
              "  </style>\n",
              "\n",
              "    <script>\n",
              "      const buttonEl =\n",
              "        document.querySelector('#df-36cf2b81-c3a4-474e-9791-8e93861e5967 button.colab-df-convert');\n",
              "      buttonEl.style.display =\n",
              "        google.colab.kernel.accessAllowed ? 'block' : 'none';\n",
              "\n",
              "      async function convertToInteractive(key) {\n",
              "        const element = document.querySelector('#df-36cf2b81-c3a4-474e-9791-8e93861e5967');\n",
              "        const dataTable =\n",
              "          await google.colab.kernel.invokeFunction('convertToInteractive',\n",
              "                                                    [key], {});\n",
              "        if (!dataTable) return;\n",
              "\n",
              "        const docLinkHtml = 'Like what you see? Visit the ' +\n",
              "          '<a target=\"_blank\" href=https://colab.research.google.com/notebooks/data_table.ipynb>data table notebook</a>'\n",
              "          + ' to learn more about interactive tables.';\n",
              "        element.innerHTML = '';\n",
              "        dataTable['output_type'] = 'display_data';\n",
              "        await google.colab.output.renderOutput(dataTable, element);\n",
              "        const docLink = document.createElement('div');\n",
              "        docLink.innerHTML = docLinkHtml;\n",
              "        element.appendChild(docLink);\n",
              "      }\n",
              "    </script>\n",
              "  </div>\n",
              "\n",
              "\n",
              "<div id=\"df-2fdebbd4-5369-4ff1-8099-ccbd7421d307\">\n",
              "  <button class=\"colab-df-quickchart\" onclick=\"quickchart('df-2fdebbd4-5369-4ff1-8099-ccbd7421d307')\"\n",
              "            title=\"Suggest charts\"\n",
              "            style=\"display:none;\">\n",
              "\n",
              "<svg xmlns=\"http://www.w3.org/2000/svg\" height=\"24px\"viewBox=\"0 0 24 24\"\n",
              "     width=\"24px\">\n",
              "    <g>\n",
              "        <path d=\"M19 3H5c-1.1 0-2 .9-2 2v14c0 1.1.9 2 2 2h14c1.1 0 2-.9 2-2V5c0-1.1-.9-2-2-2zM9 17H7v-7h2v7zm4 0h-2V7h2v10zm4 0h-2v-4h2v4z\"/>\n",
              "    </g>\n",
              "</svg>\n",
              "  </button>\n",
              "\n",
              "<style>\n",
              "  .colab-df-quickchart {\n",
              "      --bg-color: #E8F0FE;\n",
              "      --fill-color: #1967D2;\n",
              "      --hover-bg-color: #E2EBFA;\n",
              "      --hover-fill-color: #174EA6;\n",
              "      --disabled-fill-color: #AAA;\n",
              "      --disabled-bg-color: #DDD;\n",
              "  }\n",
              "\n",
              "  [theme=dark] .colab-df-quickchart {\n",
              "      --bg-color: #3B4455;\n",
              "      --fill-color: #D2E3FC;\n",
              "      --hover-bg-color: #434B5C;\n",
              "      --hover-fill-color: #FFFFFF;\n",
              "      --disabled-bg-color: #3B4455;\n",
              "      --disabled-fill-color: #666;\n",
              "  }\n",
              "\n",
              "  .colab-df-quickchart {\n",
              "    background-color: var(--bg-color);\n",
              "    border: none;\n",
              "    border-radius: 50%;\n",
              "    cursor: pointer;\n",
              "    display: none;\n",
              "    fill: var(--fill-color);\n",
              "    height: 32px;\n",
              "    padding: 0;\n",
              "    width: 32px;\n",
              "  }\n",
              "\n",
              "  .colab-df-quickchart:hover {\n",
              "    background-color: var(--hover-bg-color);\n",
              "    box-shadow: 0 1px 2px rgba(60, 64, 67, 0.3), 0 1px 3px 1px rgba(60, 64, 67, 0.15);\n",
              "    fill: var(--button-hover-fill-color);\n",
              "  }\n",
              "\n",
              "  .colab-df-quickchart-complete:disabled,\n",
              "  .colab-df-quickchart-complete:disabled:hover {\n",
              "    background-color: var(--disabled-bg-color);\n",
              "    fill: var(--disabled-fill-color);\n",
              "    box-shadow: none;\n",
              "  }\n",
              "\n",
              "  .colab-df-spinner {\n",
              "    border: 2px solid var(--fill-color);\n",
              "    border-color: transparent;\n",
              "    border-bottom-color: var(--fill-color);\n",
              "    animation:\n",
              "      spin 1s steps(1) infinite;\n",
              "  }\n",
              "\n",
              "  @keyframes spin {\n",
              "    0% {\n",
              "      border-color: transparent;\n",
              "      border-bottom-color: var(--fill-color);\n",
              "      border-left-color: var(--fill-color);\n",
              "    }\n",
              "    20% {\n",
              "      border-color: transparent;\n",
              "      border-left-color: var(--fill-color);\n",
              "      border-top-color: var(--fill-color);\n",
              "    }\n",
              "    30% {\n",
              "      border-color: transparent;\n",
              "      border-left-color: var(--fill-color);\n",
              "      border-top-color: var(--fill-color);\n",
              "      border-right-color: var(--fill-color);\n",
              "    }\n",
              "    40% {\n",
              "      border-color: transparent;\n",
              "      border-right-color: var(--fill-color);\n",
              "      border-top-color: var(--fill-color);\n",
              "    }\n",
              "    60% {\n",
              "      border-color: transparent;\n",
              "      border-right-color: var(--fill-color);\n",
              "    }\n",
              "    80% {\n",
              "      border-color: transparent;\n",
              "      border-right-color: var(--fill-color);\n",
              "      border-bottom-color: var(--fill-color);\n",
              "    }\n",
              "    90% {\n",
              "      border-color: transparent;\n",
              "      border-bottom-color: var(--fill-color);\n",
              "    }\n",
              "  }\n",
              "</style>\n",
              "\n",
              "  <script>\n",
              "    async function quickchart(key) {\n",
              "      const quickchartButtonEl =\n",
              "        document.querySelector('#' + key + ' button');\n",
              "      quickchartButtonEl.disabled = true;  // To prevent multiple clicks.\n",
              "      quickchartButtonEl.classList.add('colab-df-spinner');\n",
              "      try {\n",
              "        const charts = await google.colab.kernel.invokeFunction(\n",
              "            'suggestCharts', [key], {});\n",
              "      } catch (error) {\n",
              "        console.error('Error during call to suggestCharts:', error);\n",
              "      }\n",
              "      quickchartButtonEl.classList.remove('colab-df-spinner');\n",
              "      quickchartButtonEl.classList.add('colab-df-quickchart-complete');\n",
              "    }\n",
              "    (() => {\n",
              "      let quickchartButtonEl =\n",
              "        document.querySelector('#df-2fdebbd4-5369-4ff1-8099-ccbd7421d307 button');\n",
              "      quickchartButtonEl.style.display =\n",
              "        google.colab.kernel.accessAllowed ? 'block' : 'none';\n",
              "    })();\n",
              "  </script>\n",
              "</div>\n",
              "\n",
              "  <div id=\"id_ff64cf11-55eb-4514-a501-0c44a2ca7f87\">\n",
              "    <style>\n",
              "      .colab-df-generate {\n",
              "        background-color: #E8F0FE;\n",
              "        border: none;\n",
              "        border-radius: 50%;\n",
              "        cursor: pointer;\n",
              "        display: none;\n",
              "        fill: #1967D2;\n",
              "        height: 32px;\n",
              "        padding: 0 0 0 0;\n",
              "        width: 32px;\n",
              "      }\n",
              "\n",
              "      .colab-df-generate:hover {\n",
              "        background-color: #E2EBFA;\n",
              "        box-shadow: 0px 1px 2px rgba(60, 64, 67, 0.3), 0px 1px 3px 1px rgba(60, 64, 67, 0.15);\n",
              "        fill: #174EA6;\n",
              "      }\n",
              "\n",
              "      [theme=dark] .colab-df-generate {\n",
              "        background-color: #3B4455;\n",
              "        fill: #D2E3FC;\n",
              "      }\n",
              "\n",
              "      [theme=dark] .colab-df-generate:hover {\n",
              "        background-color: #434B5C;\n",
              "        box-shadow: 0px 1px 3px 1px rgba(0, 0, 0, 0.15);\n",
              "        filter: drop-shadow(0px 1px 2px rgba(0, 0, 0, 0.3));\n",
              "        fill: #FFFFFF;\n",
              "      }\n",
              "    </style>\n",
              "    <button class=\"colab-df-generate\" onclick=\"generateWithVariable('df')\"\n",
              "            title=\"Generate code using this dataframe.\"\n",
              "            style=\"display:none;\">\n",
              "\n",
              "  <svg xmlns=\"http://www.w3.org/2000/svg\" height=\"24px\"viewBox=\"0 0 24 24\"\n",
              "       width=\"24px\">\n",
              "    <path d=\"M7,19H8.4L18.45,9,17,7.55,7,17.6ZM5,21V16.75L18.45,3.32a2,2,0,0,1,2.83,0l1.4,1.43a1.91,1.91,0,0,1,.58,1.4,1.91,1.91,0,0,1-.58,1.4L9.25,21ZM18.45,9,17,7.55Zm-12,3A5.31,5.31,0,0,0,4.9,8.1,5.31,5.31,0,0,0,1,6.5,5.31,5.31,0,0,0,4.9,4.9,5.31,5.31,0,0,0,6.5,1,5.31,5.31,0,0,0,8.1,4.9,5.31,5.31,0,0,0,12,6.5,5.46,5.46,0,0,0,6.5,12Z\"/>\n",
              "  </svg>\n",
              "    </button>\n",
              "    <script>\n",
              "      (() => {\n",
              "      const buttonEl =\n",
              "        document.querySelector('#id_ff64cf11-55eb-4514-a501-0c44a2ca7f87 button.colab-df-generate');\n",
              "      buttonEl.style.display =\n",
              "        google.colab.kernel.accessAllowed ? 'block' : 'none';\n",
              "\n",
              "      buttonEl.onclick = () => {\n",
              "        google.colab.notebook.generateWithVariable('df');\n",
              "      }\n",
              "      })();\n",
              "    </script>\n",
              "  </div>\n",
              "\n",
              "    </div>\n",
              "  </div>\n"
            ],
            "application/vnd.google.colaboratory.intrinsic+json": {
              "type": "dataframe",
              "variable_name": "df"
            }
          },
          "metadata": {},
          "execution_count": 9
        }
      ]
    },
    {
      "cell_type": "code",
      "source": [
        "X = df.drop('torque', axis=1)\n",
        "y = df['torque']"
      ],
      "metadata": {
        "id": "_oYwqFrJhrOf"
      },
      "execution_count": 10,
      "outputs": []
    },
    {
      "cell_type": "code",
      "source": [
        "from sklearn.model_selection import train_test_split\n",
        "\n",
        "X_train, X_test, y_train, y_test = train_test_split(X, y, test_size=0.33,\n",
        "                                                    random_state=42)"
      ],
      "metadata": {
        "id": "SqHNLdXghtzg"
      },
      "execution_count": 11,
      "outputs": []
    },
    {
      "cell_type": "code",
      "source": [
        "from sklearn.preprocessing import StandardScaler\n",
        "\n",
        "scale = StandardScaler()\n",
        "X_train = pd.DataFrame(scale.fit_transform(X_train), columns=X.columns)"
      ],
      "metadata": {
        "id": "OOrBpFsWhu2i"
      },
      "execution_count": 12,
      "outputs": []
    },
    {
      "cell_type": "code",
      "source": [
        "X_test = pd.DataFrame(scale.transform(X_test), columns=X.columns)"
      ],
      "metadata": {
        "id": "kUtqt8bJhwUt"
      },
      "execution_count": 13,
      "outputs": []
    },
    {
      "cell_type": "code",
      "source": [
        "y_train = pd.DataFrame(scale.fit_transform(y_train.values.reshape(-1, 1)),\n",
        "                       columns=['torque'])"
      ],
      "metadata": {
        "id": "cqFfnwDhjdyt"
      },
      "execution_count": 14,
      "outputs": []
    },
    {
      "cell_type": "code",
      "source": [
        "y_test = pd.DataFrame(scale.transform(y_test.values.reshape(-1, 1)),\n",
        "                      columns=['torque'])"
      ],
      "metadata": {
        "id": "YJwQfxN6kHhz"
      },
      "execution_count": 15,
      "outputs": []
    },
    {
      "cell_type": "code",
      "source": [
        "X_test"
      ],
      "metadata": {
        "colab": {
          "base_uri": "https://localhost:8080/",
          "height": 424
        },
        "id": "yUuRP2G1hxgT",
        "outputId": "aa8bf078-f47a-4765-b706-4af50dfb8e38"
      },
      "execution_count": 16,
      "outputs": [
        {
          "output_type": "execute_result",
          "data": {
            "text/plain": [
              "             u_q   coolant  stator_winding       u_d  stator_tooth  \\\n",
              "0       0.728613  1.322868        1.341300 -1.158856      1.527861   \n",
              "1      -0.881172  0.208160        1.649903 -1.662308      1.298450   \n",
              "2       0.333085 -0.135595       -0.332635  2.152873     -0.257302   \n",
              "3      -0.675149  1.355993        1.281090  0.196480      1.489310   \n",
              "4      -0.532747 -0.803921        1.206486 -1.620189      0.740182   \n",
              "...          ...       ...             ...       ...           ...   \n",
              "439165  0.260407  1.657779        0.771297  2.158585      1.026228   \n",
              "439166  0.712417  2.515797        1.564045 -1.178392      2.033290   \n",
              "439167  1.664373  0.912855        0.029422  0.673107      0.373573   \n",
              "439168  0.371333 -0.820796       -0.120759 -1.358180     -0.329139   \n",
              "439169 -1.217682  0.157455       -0.937471  0.388453     -0.761990   \n",
              "\n",
              "        motor_speed       i_d       i_q        pm  stator_yoke   ambient  \n",
              "0          1.503556 -0.983579  0.181307  1.681132     1.533726  0.595682  \n",
              "1          1.503560 -2.113116  0.420615  1.208469     0.823787 -0.891226  \n",
              "2          1.275997 -1.216125 -1.301515  0.490303    -0.169963 -0.456066  \n",
              "3         -0.915181  0.820242  0.362024  0.270683     1.604925 -0.127936  \n",
              "4          1.234743 -1.894127  0.502527  0.771614     0.152976 -2.403092  \n",
              "...             ...       ...       ...       ...          ...       ...  \n",
              "439165     0.608643 -0.787462 -1.605679  1.004104     1.197501  0.829637  \n",
              "439166     0.080485  0.213643  1.014892  1.658552     2.443668  1.808178  \n",
              "439167     0.331784  0.990737 -0.577923  0.221033     0.653908  2.288847  \n",
              "439168     0.428289 -0.851143  0.823029 -0.669901    -0.551694 -1.528107  \n",
              "439169    -1.184612  1.028015 -0.394039 -0.332325    -0.454595 -0.364858  \n",
              "\n",
              "[439170 rows x 11 columns]"
            ],
            "text/html": [
              "\n",
              "  <div id=\"df-95bd0c64-596a-46bd-a4b3-8215bb5abe7e\" class=\"colab-df-container\">\n",
              "    <div>\n",
              "<style scoped>\n",
              "    .dataframe tbody tr th:only-of-type {\n",
              "        vertical-align: middle;\n",
              "    }\n",
              "\n",
              "    .dataframe tbody tr th {\n",
              "        vertical-align: top;\n",
              "    }\n",
              "\n",
              "    .dataframe thead th {\n",
              "        text-align: right;\n",
              "    }\n",
              "</style>\n",
              "<table border=\"1\" class=\"dataframe\">\n",
              "  <thead>\n",
              "    <tr style=\"text-align: right;\">\n",
              "      <th></th>\n",
              "      <th>u_q</th>\n",
              "      <th>coolant</th>\n",
              "      <th>stator_winding</th>\n",
              "      <th>u_d</th>\n",
              "      <th>stator_tooth</th>\n",
              "      <th>motor_speed</th>\n",
              "      <th>i_d</th>\n",
              "      <th>i_q</th>\n",
              "      <th>pm</th>\n",
              "      <th>stator_yoke</th>\n",
              "      <th>ambient</th>\n",
              "    </tr>\n",
              "  </thead>\n",
              "  <tbody>\n",
              "    <tr>\n",
              "      <th>0</th>\n",
              "      <td>0.728613</td>\n",
              "      <td>1.322868</td>\n",
              "      <td>1.341300</td>\n",
              "      <td>-1.158856</td>\n",
              "      <td>1.527861</td>\n",
              "      <td>1.503556</td>\n",
              "      <td>-0.983579</td>\n",
              "      <td>0.181307</td>\n",
              "      <td>1.681132</td>\n",
              "      <td>1.533726</td>\n",
              "      <td>0.595682</td>\n",
              "    </tr>\n",
              "    <tr>\n",
              "      <th>1</th>\n",
              "      <td>-0.881172</td>\n",
              "      <td>0.208160</td>\n",
              "      <td>1.649903</td>\n",
              "      <td>-1.662308</td>\n",
              "      <td>1.298450</td>\n",
              "      <td>1.503560</td>\n",
              "      <td>-2.113116</td>\n",
              "      <td>0.420615</td>\n",
              "      <td>1.208469</td>\n",
              "      <td>0.823787</td>\n",
              "      <td>-0.891226</td>\n",
              "    </tr>\n",
              "    <tr>\n",
              "      <th>2</th>\n",
              "      <td>0.333085</td>\n",
              "      <td>-0.135595</td>\n",
              "      <td>-0.332635</td>\n",
              "      <td>2.152873</td>\n",
              "      <td>-0.257302</td>\n",
              "      <td>1.275997</td>\n",
              "      <td>-1.216125</td>\n",
              "      <td>-1.301515</td>\n",
              "      <td>0.490303</td>\n",
              "      <td>-0.169963</td>\n",
              "      <td>-0.456066</td>\n",
              "    </tr>\n",
              "    <tr>\n",
              "      <th>3</th>\n",
              "      <td>-0.675149</td>\n",
              "      <td>1.355993</td>\n",
              "      <td>1.281090</td>\n",
              "      <td>0.196480</td>\n",
              "      <td>1.489310</td>\n",
              "      <td>-0.915181</td>\n",
              "      <td>0.820242</td>\n",
              "      <td>0.362024</td>\n",
              "      <td>0.270683</td>\n",
              "      <td>1.604925</td>\n",
              "      <td>-0.127936</td>\n",
              "    </tr>\n",
              "    <tr>\n",
              "      <th>4</th>\n",
              "      <td>-0.532747</td>\n",
              "      <td>-0.803921</td>\n",
              "      <td>1.206486</td>\n",
              "      <td>-1.620189</td>\n",
              "      <td>0.740182</td>\n",
              "      <td>1.234743</td>\n",
              "      <td>-1.894127</td>\n",
              "      <td>0.502527</td>\n",
              "      <td>0.771614</td>\n",
              "      <td>0.152976</td>\n",
              "      <td>-2.403092</td>\n",
              "    </tr>\n",
              "    <tr>\n",
              "      <th>...</th>\n",
              "      <td>...</td>\n",
              "      <td>...</td>\n",
              "      <td>...</td>\n",
              "      <td>...</td>\n",
              "      <td>...</td>\n",
              "      <td>...</td>\n",
              "      <td>...</td>\n",
              "      <td>...</td>\n",
              "      <td>...</td>\n",
              "      <td>...</td>\n",
              "      <td>...</td>\n",
              "    </tr>\n",
              "    <tr>\n",
              "      <th>439165</th>\n",
              "      <td>0.260407</td>\n",
              "      <td>1.657779</td>\n",
              "      <td>0.771297</td>\n",
              "      <td>2.158585</td>\n",
              "      <td>1.026228</td>\n",
              "      <td>0.608643</td>\n",
              "      <td>-0.787462</td>\n",
              "      <td>-1.605679</td>\n",
              "      <td>1.004104</td>\n",
              "      <td>1.197501</td>\n",
              "      <td>0.829637</td>\n",
              "    </tr>\n",
              "    <tr>\n",
              "      <th>439166</th>\n",
              "      <td>0.712417</td>\n",
              "      <td>2.515797</td>\n",
              "      <td>1.564045</td>\n",
              "      <td>-1.178392</td>\n",
              "      <td>2.033290</td>\n",
              "      <td>0.080485</td>\n",
              "      <td>0.213643</td>\n",
              "      <td>1.014892</td>\n",
              "      <td>1.658552</td>\n",
              "      <td>2.443668</td>\n",
              "      <td>1.808178</td>\n",
              "    </tr>\n",
              "    <tr>\n",
              "      <th>439167</th>\n",
              "      <td>1.664373</td>\n",
              "      <td>0.912855</td>\n",
              "      <td>0.029422</td>\n",
              "      <td>0.673107</td>\n",
              "      <td>0.373573</td>\n",
              "      <td>0.331784</td>\n",
              "      <td>0.990737</td>\n",
              "      <td>-0.577923</td>\n",
              "      <td>0.221033</td>\n",
              "      <td>0.653908</td>\n",
              "      <td>2.288847</td>\n",
              "    </tr>\n",
              "    <tr>\n",
              "      <th>439168</th>\n",
              "      <td>0.371333</td>\n",
              "      <td>-0.820796</td>\n",
              "      <td>-0.120759</td>\n",
              "      <td>-1.358180</td>\n",
              "      <td>-0.329139</td>\n",
              "      <td>0.428289</td>\n",
              "      <td>-0.851143</td>\n",
              "      <td>0.823029</td>\n",
              "      <td>-0.669901</td>\n",
              "      <td>-0.551694</td>\n",
              "      <td>-1.528107</td>\n",
              "    </tr>\n",
              "    <tr>\n",
              "      <th>439169</th>\n",
              "      <td>-1.217682</td>\n",
              "      <td>0.157455</td>\n",
              "      <td>-0.937471</td>\n",
              "      <td>0.388453</td>\n",
              "      <td>-0.761990</td>\n",
              "      <td>-1.184612</td>\n",
              "      <td>1.028015</td>\n",
              "      <td>-0.394039</td>\n",
              "      <td>-0.332325</td>\n",
              "      <td>-0.454595</td>\n",
              "      <td>-0.364858</td>\n",
              "    </tr>\n",
              "  </tbody>\n",
              "</table>\n",
              "<p>439170 rows × 11 columns</p>\n",
              "</div>\n",
              "    <div class=\"colab-df-buttons\">\n",
              "\n",
              "  <div class=\"colab-df-container\">\n",
              "    <button class=\"colab-df-convert\" onclick=\"convertToInteractive('df-95bd0c64-596a-46bd-a4b3-8215bb5abe7e')\"\n",
              "            title=\"Convert this dataframe to an interactive table.\"\n",
              "            style=\"display:none;\">\n",
              "\n",
              "  <svg xmlns=\"http://www.w3.org/2000/svg\" height=\"24px\" viewBox=\"0 -960 960 960\">\n",
              "    <path d=\"M120-120v-720h720v720H120Zm60-500h600v-160H180v160Zm220 220h160v-160H400v160Zm0 220h160v-160H400v160ZM180-400h160v-160H180v160Zm440 0h160v-160H620v160ZM180-180h160v-160H180v160Zm440 0h160v-160H620v160Z\"/>\n",
              "  </svg>\n",
              "    </button>\n",
              "\n",
              "  <style>\n",
              "    .colab-df-container {\n",
              "      display:flex;\n",
              "      gap: 12px;\n",
              "    }\n",
              "\n",
              "    .colab-df-convert {\n",
              "      background-color: #E8F0FE;\n",
              "      border: none;\n",
              "      border-radius: 50%;\n",
              "      cursor: pointer;\n",
              "      display: none;\n",
              "      fill: #1967D2;\n",
              "      height: 32px;\n",
              "      padding: 0 0 0 0;\n",
              "      width: 32px;\n",
              "    }\n",
              "\n",
              "    .colab-df-convert:hover {\n",
              "      background-color: #E2EBFA;\n",
              "      box-shadow: 0px 1px 2px rgba(60, 64, 67, 0.3), 0px 1px 3px 1px rgba(60, 64, 67, 0.15);\n",
              "      fill: #174EA6;\n",
              "    }\n",
              "\n",
              "    .colab-df-buttons div {\n",
              "      margin-bottom: 4px;\n",
              "    }\n",
              "\n",
              "    [theme=dark] .colab-df-convert {\n",
              "      background-color: #3B4455;\n",
              "      fill: #D2E3FC;\n",
              "    }\n",
              "\n",
              "    [theme=dark] .colab-df-convert:hover {\n",
              "      background-color: #434B5C;\n",
              "      box-shadow: 0px 1px 3px 1px rgba(0, 0, 0, 0.15);\n",
              "      filter: drop-shadow(0px 1px 2px rgba(0, 0, 0, 0.3));\n",
              "      fill: #FFFFFF;\n",
              "    }\n",
              "  </style>\n",
              "\n",
              "    <script>\n",
              "      const buttonEl =\n",
              "        document.querySelector('#df-95bd0c64-596a-46bd-a4b3-8215bb5abe7e button.colab-df-convert');\n",
              "      buttonEl.style.display =\n",
              "        google.colab.kernel.accessAllowed ? 'block' : 'none';\n",
              "\n",
              "      async function convertToInteractive(key) {\n",
              "        const element = document.querySelector('#df-95bd0c64-596a-46bd-a4b3-8215bb5abe7e');\n",
              "        const dataTable =\n",
              "          await google.colab.kernel.invokeFunction('convertToInteractive',\n",
              "                                                    [key], {});\n",
              "        if (!dataTable) return;\n",
              "\n",
              "        const docLinkHtml = 'Like what you see? Visit the ' +\n",
              "          '<a target=\"_blank\" href=https://colab.research.google.com/notebooks/data_table.ipynb>data table notebook</a>'\n",
              "          + ' to learn more about interactive tables.';\n",
              "        element.innerHTML = '';\n",
              "        dataTable['output_type'] = 'display_data';\n",
              "        await google.colab.output.renderOutput(dataTable, element);\n",
              "        const docLink = document.createElement('div');\n",
              "        docLink.innerHTML = docLinkHtml;\n",
              "        element.appendChild(docLink);\n",
              "      }\n",
              "    </script>\n",
              "  </div>\n",
              "\n",
              "\n",
              "<div id=\"df-deeb00cb-6e6e-442c-ad64-9730e7b70864\">\n",
              "  <button class=\"colab-df-quickchart\" onclick=\"quickchart('df-deeb00cb-6e6e-442c-ad64-9730e7b70864')\"\n",
              "            title=\"Suggest charts\"\n",
              "            style=\"display:none;\">\n",
              "\n",
              "<svg xmlns=\"http://www.w3.org/2000/svg\" height=\"24px\"viewBox=\"0 0 24 24\"\n",
              "     width=\"24px\">\n",
              "    <g>\n",
              "        <path d=\"M19 3H5c-1.1 0-2 .9-2 2v14c0 1.1.9 2 2 2h14c1.1 0 2-.9 2-2V5c0-1.1-.9-2-2-2zM9 17H7v-7h2v7zm4 0h-2V7h2v10zm4 0h-2v-4h2v4z\"/>\n",
              "    </g>\n",
              "</svg>\n",
              "  </button>\n",
              "\n",
              "<style>\n",
              "  .colab-df-quickchart {\n",
              "      --bg-color: #E8F0FE;\n",
              "      --fill-color: #1967D2;\n",
              "      --hover-bg-color: #E2EBFA;\n",
              "      --hover-fill-color: #174EA6;\n",
              "      --disabled-fill-color: #AAA;\n",
              "      --disabled-bg-color: #DDD;\n",
              "  }\n",
              "\n",
              "  [theme=dark] .colab-df-quickchart {\n",
              "      --bg-color: #3B4455;\n",
              "      --fill-color: #D2E3FC;\n",
              "      --hover-bg-color: #434B5C;\n",
              "      --hover-fill-color: #FFFFFF;\n",
              "      --disabled-bg-color: #3B4455;\n",
              "      --disabled-fill-color: #666;\n",
              "  }\n",
              "\n",
              "  .colab-df-quickchart {\n",
              "    background-color: var(--bg-color);\n",
              "    border: none;\n",
              "    border-radius: 50%;\n",
              "    cursor: pointer;\n",
              "    display: none;\n",
              "    fill: var(--fill-color);\n",
              "    height: 32px;\n",
              "    padding: 0;\n",
              "    width: 32px;\n",
              "  }\n",
              "\n",
              "  .colab-df-quickchart:hover {\n",
              "    background-color: var(--hover-bg-color);\n",
              "    box-shadow: 0 1px 2px rgba(60, 64, 67, 0.3), 0 1px 3px 1px rgba(60, 64, 67, 0.15);\n",
              "    fill: var(--button-hover-fill-color);\n",
              "  }\n",
              "\n",
              "  .colab-df-quickchart-complete:disabled,\n",
              "  .colab-df-quickchart-complete:disabled:hover {\n",
              "    background-color: var(--disabled-bg-color);\n",
              "    fill: var(--disabled-fill-color);\n",
              "    box-shadow: none;\n",
              "  }\n",
              "\n",
              "  .colab-df-spinner {\n",
              "    border: 2px solid var(--fill-color);\n",
              "    border-color: transparent;\n",
              "    border-bottom-color: var(--fill-color);\n",
              "    animation:\n",
              "      spin 1s steps(1) infinite;\n",
              "  }\n",
              "\n",
              "  @keyframes spin {\n",
              "    0% {\n",
              "      border-color: transparent;\n",
              "      border-bottom-color: var(--fill-color);\n",
              "      border-left-color: var(--fill-color);\n",
              "    }\n",
              "    20% {\n",
              "      border-color: transparent;\n",
              "      border-left-color: var(--fill-color);\n",
              "      border-top-color: var(--fill-color);\n",
              "    }\n",
              "    30% {\n",
              "      border-color: transparent;\n",
              "      border-left-color: var(--fill-color);\n",
              "      border-top-color: var(--fill-color);\n",
              "      border-right-color: var(--fill-color);\n",
              "    }\n",
              "    40% {\n",
              "      border-color: transparent;\n",
              "      border-right-color: var(--fill-color);\n",
              "      border-top-color: var(--fill-color);\n",
              "    }\n",
              "    60% {\n",
              "      border-color: transparent;\n",
              "      border-right-color: var(--fill-color);\n",
              "    }\n",
              "    80% {\n",
              "      border-color: transparent;\n",
              "      border-right-color: var(--fill-color);\n",
              "      border-bottom-color: var(--fill-color);\n",
              "    }\n",
              "    90% {\n",
              "      border-color: transparent;\n",
              "      border-bottom-color: var(--fill-color);\n",
              "    }\n",
              "  }\n",
              "</style>\n",
              "\n",
              "  <script>\n",
              "    async function quickchart(key) {\n",
              "      const quickchartButtonEl =\n",
              "        document.querySelector('#' + key + ' button');\n",
              "      quickchartButtonEl.disabled = true;  // To prevent multiple clicks.\n",
              "      quickchartButtonEl.classList.add('colab-df-spinner');\n",
              "      try {\n",
              "        const charts = await google.colab.kernel.invokeFunction(\n",
              "            'suggestCharts', [key], {});\n",
              "      } catch (error) {\n",
              "        console.error('Error during call to suggestCharts:', error);\n",
              "      }\n",
              "      quickchartButtonEl.classList.remove('colab-df-spinner');\n",
              "      quickchartButtonEl.classList.add('colab-df-quickchart-complete');\n",
              "    }\n",
              "    (() => {\n",
              "      let quickchartButtonEl =\n",
              "        document.querySelector('#df-deeb00cb-6e6e-442c-ad64-9730e7b70864 button');\n",
              "      quickchartButtonEl.style.display =\n",
              "        google.colab.kernel.accessAllowed ? 'block' : 'none';\n",
              "    })();\n",
              "  </script>\n",
              "</div>\n",
              "\n",
              "  <div id=\"id_65970219-0575-4bb4-b9c6-5afd522fe5bf\">\n",
              "    <style>\n",
              "      .colab-df-generate {\n",
              "        background-color: #E8F0FE;\n",
              "        border: none;\n",
              "        border-radius: 50%;\n",
              "        cursor: pointer;\n",
              "        display: none;\n",
              "        fill: #1967D2;\n",
              "        height: 32px;\n",
              "        padding: 0 0 0 0;\n",
              "        width: 32px;\n",
              "      }\n",
              "\n",
              "      .colab-df-generate:hover {\n",
              "        background-color: #E2EBFA;\n",
              "        box-shadow: 0px 1px 2px rgba(60, 64, 67, 0.3), 0px 1px 3px 1px rgba(60, 64, 67, 0.15);\n",
              "        fill: #174EA6;\n",
              "      }\n",
              "\n",
              "      [theme=dark] .colab-df-generate {\n",
              "        background-color: #3B4455;\n",
              "        fill: #D2E3FC;\n",
              "      }\n",
              "\n",
              "      [theme=dark] .colab-df-generate:hover {\n",
              "        background-color: #434B5C;\n",
              "        box-shadow: 0px 1px 3px 1px rgba(0, 0, 0, 0.15);\n",
              "        filter: drop-shadow(0px 1px 2px rgba(0, 0, 0, 0.3));\n",
              "        fill: #FFFFFF;\n",
              "      }\n",
              "    </style>\n",
              "    <button class=\"colab-df-generate\" onclick=\"generateWithVariable('X_test')\"\n",
              "            title=\"Generate code using this dataframe.\"\n",
              "            style=\"display:none;\">\n",
              "\n",
              "  <svg xmlns=\"http://www.w3.org/2000/svg\" height=\"24px\"viewBox=\"0 0 24 24\"\n",
              "       width=\"24px\">\n",
              "    <path d=\"M7,19H8.4L18.45,9,17,7.55,7,17.6ZM5,21V16.75L18.45,3.32a2,2,0,0,1,2.83,0l1.4,1.43a1.91,1.91,0,0,1,.58,1.4,1.91,1.91,0,0,1-.58,1.4L9.25,21ZM18.45,9,17,7.55Zm-12,3A5.31,5.31,0,0,0,4.9,8.1,5.31,5.31,0,0,0,1,6.5,5.31,5.31,0,0,0,4.9,4.9,5.31,5.31,0,0,0,6.5,1,5.31,5.31,0,0,0,8.1,4.9,5.31,5.31,0,0,0,12,6.5,5.46,5.46,0,0,0,6.5,12Z\"/>\n",
              "  </svg>\n",
              "    </button>\n",
              "    <script>\n",
              "      (() => {\n",
              "      const buttonEl =\n",
              "        document.querySelector('#id_65970219-0575-4bb4-b9c6-5afd522fe5bf button.colab-df-generate');\n",
              "      buttonEl.style.display =\n",
              "        google.colab.kernel.accessAllowed ? 'block' : 'none';\n",
              "\n",
              "      buttonEl.onclick = () => {\n",
              "        google.colab.notebook.generateWithVariable('X_test');\n",
              "      }\n",
              "      })();\n",
              "    </script>\n",
              "  </div>\n",
              "\n",
              "    </div>\n",
              "  </div>\n"
            ],
            "application/vnd.google.colaboratory.intrinsic+json": {
              "type": "dataframe",
              "variable_name": "X_test"
            }
          },
          "metadata": {},
          "execution_count": 16
        }
      ]
    },
    {
      "cell_type": "code",
      "source": [
        "y_test"
      ],
      "metadata": {
        "colab": {
          "base_uri": "https://localhost:8080/",
          "height": 424
        },
        "id": "LOmq8HCkhymo",
        "outputId": "7d6e952c-e84e-48da-9f19-4de33b1cb3f7"
      },
      "execution_count": 17,
      "outputs": [
        {
          "output_type": "execute_result",
          "data": {
            "text/plain": [
              "          torque\n",
              "0       0.212570\n",
              "1       0.568888\n",
              "2      -1.402356\n",
              "3       0.244801\n",
              "4       0.634175\n",
              "...          ...\n",
              "439165 -1.674711\n",
              "439166  0.917986\n",
              "439167 -0.560378\n",
              "439168  0.894761\n",
              "439169 -0.403373\n",
              "\n",
              "[439170 rows x 1 columns]"
            ],
            "text/html": [
              "\n",
              "  <div id=\"df-6153c1fc-c8f2-42d4-8be6-fd22c59aea4d\" class=\"colab-df-container\">\n",
              "    <div>\n",
              "<style scoped>\n",
              "    .dataframe tbody tr th:only-of-type {\n",
              "        vertical-align: middle;\n",
              "    }\n",
              "\n",
              "    .dataframe tbody tr th {\n",
              "        vertical-align: top;\n",
              "    }\n",
              "\n",
              "    .dataframe thead th {\n",
              "        text-align: right;\n",
              "    }\n",
              "</style>\n",
              "<table border=\"1\" class=\"dataframe\">\n",
              "  <thead>\n",
              "    <tr style=\"text-align: right;\">\n",
              "      <th></th>\n",
              "      <th>torque</th>\n",
              "    </tr>\n",
              "  </thead>\n",
              "  <tbody>\n",
              "    <tr>\n",
              "      <th>0</th>\n",
              "      <td>0.212570</td>\n",
              "    </tr>\n",
              "    <tr>\n",
              "      <th>1</th>\n",
              "      <td>0.568888</td>\n",
              "    </tr>\n",
              "    <tr>\n",
              "      <th>2</th>\n",
              "      <td>-1.402356</td>\n",
              "    </tr>\n",
              "    <tr>\n",
              "      <th>3</th>\n",
              "      <td>0.244801</td>\n",
              "    </tr>\n",
              "    <tr>\n",
              "      <th>4</th>\n",
              "      <td>0.634175</td>\n",
              "    </tr>\n",
              "    <tr>\n",
              "      <th>...</th>\n",
              "      <td>...</td>\n",
              "    </tr>\n",
              "    <tr>\n",
              "      <th>439165</th>\n",
              "      <td>-1.674711</td>\n",
              "    </tr>\n",
              "    <tr>\n",
              "      <th>439166</th>\n",
              "      <td>0.917986</td>\n",
              "    </tr>\n",
              "    <tr>\n",
              "      <th>439167</th>\n",
              "      <td>-0.560378</td>\n",
              "    </tr>\n",
              "    <tr>\n",
              "      <th>439168</th>\n",
              "      <td>0.894761</td>\n",
              "    </tr>\n",
              "    <tr>\n",
              "      <th>439169</th>\n",
              "      <td>-0.403373</td>\n",
              "    </tr>\n",
              "  </tbody>\n",
              "</table>\n",
              "<p>439170 rows × 1 columns</p>\n",
              "</div>\n",
              "    <div class=\"colab-df-buttons\">\n",
              "\n",
              "  <div class=\"colab-df-container\">\n",
              "    <button class=\"colab-df-convert\" onclick=\"convertToInteractive('df-6153c1fc-c8f2-42d4-8be6-fd22c59aea4d')\"\n",
              "            title=\"Convert this dataframe to an interactive table.\"\n",
              "            style=\"display:none;\">\n",
              "\n",
              "  <svg xmlns=\"http://www.w3.org/2000/svg\" height=\"24px\" viewBox=\"0 -960 960 960\">\n",
              "    <path d=\"M120-120v-720h720v720H120Zm60-500h600v-160H180v160Zm220 220h160v-160H400v160Zm0 220h160v-160H400v160ZM180-400h160v-160H180v160Zm440 0h160v-160H620v160ZM180-180h160v-160H180v160Zm440 0h160v-160H620v160Z\"/>\n",
              "  </svg>\n",
              "    </button>\n",
              "\n",
              "  <style>\n",
              "    .colab-df-container {\n",
              "      display:flex;\n",
              "      gap: 12px;\n",
              "    }\n",
              "\n",
              "    .colab-df-convert {\n",
              "      background-color: #E8F0FE;\n",
              "      border: none;\n",
              "      border-radius: 50%;\n",
              "      cursor: pointer;\n",
              "      display: none;\n",
              "      fill: #1967D2;\n",
              "      height: 32px;\n",
              "      padding: 0 0 0 0;\n",
              "      width: 32px;\n",
              "    }\n",
              "\n",
              "    .colab-df-convert:hover {\n",
              "      background-color: #E2EBFA;\n",
              "      box-shadow: 0px 1px 2px rgba(60, 64, 67, 0.3), 0px 1px 3px 1px rgba(60, 64, 67, 0.15);\n",
              "      fill: #174EA6;\n",
              "    }\n",
              "\n",
              "    .colab-df-buttons div {\n",
              "      margin-bottom: 4px;\n",
              "    }\n",
              "\n",
              "    [theme=dark] .colab-df-convert {\n",
              "      background-color: #3B4455;\n",
              "      fill: #D2E3FC;\n",
              "    }\n",
              "\n",
              "    [theme=dark] .colab-df-convert:hover {\n",
              "      background-color: #434B5C;\n",
              "      box-shadow: 0px 1px 3px 1px rgba(0, 0, 0, 0.15);\n",
              "      filter: drop-shadow(0px 1px 2px rgba(0, 0, 0, 0.3));\n",
              "      fill: #FFFFFF;\n",
              "    }\n",
              "  </style>\n",
              "\n",
              "    <script>\n",
              "      const buttonEl =\n",
              "        document.querySelector('#df-6153c1fc-c8f2-42d4-8be6-fd22c59aea4d button.colab-df-convert');\n",
              "      buttonEl.style.display =\n",
              "        google.colab.kernel.accessAllowed ? 'block' : 'none';\n",
              "\n",
              "      async function convertToInteractive(key) {\n",
              "        const element = document.querySelector('#df-6153c1fc-c8f2-42d4-8be6-fd22c59aea4d');\n",
              "        const dataTable =\n",
              "          await google.colab.kernel.invokeFunction('convertToInteractive',\n",
              "                                                    [key], {});\n",
              "        if (!dataTable) return;\n",
              "\n",
              "        const docLinkHtml = 'Like what you see? Visit the ' +\n",
              "          '<a target=\"_blank\" href=https://colab.research.google.com/notebooks/data_table.ipynb>data table notebook</a>'\n",
              "          + ' to learn more about interactive tables.';\n",
              "        element.innerHTML = '';\n",
              "        dataTable['output_type'] = 'display_data';\n",
              "        await google.colab.output.renderOutput(dataTable, element);\n",
              "        const docLink = document.createElement('div');\n",
              "        docLink.innerHTML = docLinkHtml;\n",
              "        element.appendChild(docLink);\n",
              "      }\n",
              "    </script>\n",
              "  </div>\n",
              "\n",
              "\n",
              "<div id=\"df-8d1ea813-dae8-4a8c-a450-203a53de9295\">\n",
              "  <button class=\"colab-df-quickchart\" onclick=\"quickchart('df-8d1ea813-dae8-4a8c-a450-203a53de9295')\"\n",
              "            title=\"Suggest charts\"\n",
              "            style=\"display:none;\">\n",
              "\n",
              "<svg xmlns=\"http://www.w3.org/2000/svg\" height=\"24px\"viewBox=\"0 0 24 24\"\n",
              "     width=\"24px\">\n",
              "    <g>\n",
              "        <path d=\"M19 3H5c-1.1 0-2 .9-2 2v14c0 1.1.9 2 2 2h14c1.1 0 2-.9 2-2V5c0-1.1-.9-2-2-2zM9 17H7v-7h2v7zm4 0h-2V7h2v10zm4 0h-2v-4h2v4z\"/>\n",
              "    </g>\n",
              "</svg>\n",
              "  </button>\n",
              "\n",
              "<style>\n",
              "  .colab-df-quickchart {\n",
              "      --bg-color: #E8F0FE;\n",
              "      --fill-color: #1967D2;\n",
              "      --hover-bg-color: #E2EBFA;\n",
              "      --hover-fill-color: #174EA6;\n",
              "      --disabled-fill-color: #AAA;\n",
              "      --disabled-bg-color: #DDD;\n",
              "  }\n",
              "\n",
              "  [theme=dark] .colab-df-quickchart {\n",
              "      --bg-color: #3B4455;\n",
              "      --fill-color: #D2E3FC;\n",
              "      --hover-bg-color: #434B5C;\n",
              "      --hover-fill-color: #FFFFFF;\n",
              "      --disabled-bg-color: #3B4455;\n",
              "      --disabled-fill-color: #666;\n",
              "  }\n",
              "\n",
              "  .colab-df-quickchart {\n",
              "    background-color: var(--bg-color);\n",
              "    border: none;\n",
              "    border-radius: 50%;\n",
              "    cursor: pointer;\n",
              "    display: none;\n",
              "    fill: var(--fill-color);\n",
              "    height: 32px;\n",
              "    padding: 0;\n",
              "    width: 32px;\n",
              "  }\n",
              "\n",
              "  .colab-df-quickchart:hover {\n",
              "    background-color: var(--hover-bg-color);\n",
              "    box-shadow: 0 1px 2px rgba(60, 64, 67, 0.3), 0 1px 3px 1px rgba(60, 64, 67, 0.15);\n",
              "    fill: var(--button-hover-fill-color);\n",
              "  }\n",
              "\n",
              "  .colab-df-quickchart-complete:disabled,\n",
              "  .colab-df-quickchart-complete:disabled:hover {\n",
              "    background-color: var(--disabled-bg-color);\n",
              "    fill: var(--disabled-fill-color);\n",
              "    box-shadow: none;\n",
              "  }\n",
              "\n",
              "  .colab-df-spinner {\n",
              "    border: 2px solid var(--fill-color);\n",
              "    border-color: transparent;\n",
              "    border-bottom-color: var(--fill-color);\n",
              "    animation:\n",
              "      spin 1s steps(1) infinite;\n",
              "  }\n",
              "\n",
              "  @keyframes spin {\n",
              "    0% {\n",
              "      border-color: transparent;\n",
              "      border-bottom-color: var(--fill-color);\n",
              "      border-left-color: var(--fill-color);\n",
              "    }\n",
              "    20% {\n",
              "      border-color: transparent;\n",
              "      border-left-color: var(--fill-color);\n",
              "      border-top-color: var(--fill-color);\n",
              "    }\n",
              "    30% {\n",
              "      border-color: transparent;\n",
              "      border-left-color: var(--fill-color);\n",
              "      border-top-color: var(--fill-color);\n",
              "      border-right-color: var(--fill-color);\n",
              "    }\n",
              "    40% {\n",
              "      border-color: transparent;\n",
              "      border-right-color: var(--fill-color);\n",
              "      border-top-color: var(--fill-color);\n",
              "    }\n",
              "    60% {\n",
              "      border-color: transparent;\n",
              "      border-right-color: var(--fill-color);\n",
              "    }\n",
              "    80% {\n",
              "      border-color: transparent;\n",
              "      border-right-color: var(--fill-color);\n",
              "      border-bottom-color: var(--fill-color);\n",
              "    }\n",
              "    90% {\n",
              "      border-color: transparent;\n",
              "      border-bottom-color: var(--fill-color);\n",
              "    }\n",
              "  }\n",
              "</style>\n",
              "\n",
              "  <script>\n",
              "    async function quickchart(key) {\n",
              "      const quickchartButtonEl =\n",
              "        document.querySelector('#' + key + ' button');\n",
              "      quickchartButtonEl.disabled = true;  // To prevent multiple clicks.\n",
              "      quickchartButtonEl.classList.add('colab-df-spinner');\n",
              "      try {\n",
              "        const charts = await google.colab.kernel.invokeFunction(\n",
              "            'suggestCharts', [key], {});\n",
              "      } catch (error) {\n",
              "        console.error('Error during call to suggestCharts:', error);\n",
              "      }\n",
              "      quickchartButtonEl.classList.remove('colab-df-spinner');\n",
              "      quickchartButtonEl.classList.add('colab-df-quickchart-complete');\n",
              "    }\n",
              "    (() => {\n",
              "      let quickchartButtonEl =\n",
              "        document.querySelector('#df-8d1ea813-dae8-4a8c-a450-203a53de9295 button');\n",
              "      quickchartButtonEl.style.display =\n",
              "        google.colab.kernel.accessAllowed ? 'block' : 'none';\n",
              "    })();\n",
              "  </script>\n",
              "</div>\n",
              "\n",
              "  <div id=\"id_0fefe929-0109-49bf-83ad-c4204bed8c31\">\n",
              "    <style>\n",
              "      .colab-df-generate {\n",
              "        background-color: #E8F0FE;\n",
              "        border: none;\n",
              "        border-radius: 50%;\n",
              "        cursor: pointer;\n",
              "        display: none;\n",
              "        fill: #1967D2;\n",
              "        height: 32px;\n",
              "        padding: 0 0 0 0;\n",
              "        width: 32px;\n",
              "      }\n",
              "\n",
              "      .colab-df-generate:hover {\n",
              "        background-color: #E2EBFA;\n",
              "        box-shadow: 0px 1px 2px rgba(60, 64, 67, 0.3), 0px 1px 3px 1px rgba(60, 64, 67, 0.15);\n",
              "        fill: #174EA6;\n",
              "      }\n",
              "\n",
              "      [theme=dark] .colab-df-generate {\n",
              "        background-color: #3B4455;\n",
              "        fill: #D2E3FC;\n",
              "      }\n",
              "\n",
              "      [theme=dark] .colab-df-generate:hover {\n",
              "        background-color: #434B5C;\n",
              "        box-shadow: 0px 1px 3px 1px rgba(0, 0, 0, 0.15);\n",
              "        filter: drop-shadow(0px 1px 2px rgba(0, 0, 0, 0.3));\n",
              "        fill: #FFFFFF;\n",
              "      }\n",
              "    </style>\n",
              "    <button class=\"colab-df-generate\" onclick=\"generateWithVariable('y_test')\"\n",
              "            title=\"Generate code using this dataframe.\"\n",
              "            style=\"display:none;\">\n",
              "\n",
              "  <svg xmlns=\"http://www.w3.org/2000/svg\" height=\"24px\"viewBox=\"0 0 24 24\"\n",
              "       width=\"24px\">\n",
              "    <path d=\"M7,19H8.4L18.45,9,17,7.55,7,17.6ZM5,21V16.75L18.45,3.32a2,2,0,0,1,2.83,0l1.4,1.43a1.91,1.91,0,0,1,.58,1.4,1.91,1.91,0,0,1-.58,1.4L9.25,21ZM18.45,9,17,7.55Zm-12,3A5.31,5.31,0,0,0,4.9,8.1,5.31,5.31,0,0,0,1,6.5,5.31,5.31,0,0,0,4.9,4.9,5.31,5.31,0,0,0,6.5,1,5.31,5.31,0,0,0,8.1,4.9,5.31,5.31,0,0,0,12,6.5,5.46,5.46,0,0,0,6.5,12Z\"/>\n",
              "  </svg>\n",
              "    </button>\n",
              "    <script>\n",
              "      (() => {\n",
              "      const buttonEl =\n",
              "        document.querySelector('#id_0fefe929-0109-49bf-83ad-c4204bed8c31 button.colab-df-generate');\n",
              "      buttonEl.style.display =\n",
              "        google.colab.kernel.accessAllowed ? 'block' : 'none';\n",
              "\n",
              "      buttonEl.onclick = () => {\n",
              "        google.colab.notebook.generateWithVariable('y_test');\n",
              "      }\n",
              "      })();\n",
              "    </script>\n",
              "  </div>\n",
              "\n",
              "    </div>\n",
              "  </div>\n"
            ],
            "application/vnd.google.colaboratory.intrinsic+json": {
              "type": "dataframe",
              "variable_name": "y_test"
            }
          },
          "metadata": {},
          "execution_count": 17
        }
      ]
    },
    {
      "cell_type": "code",
      "source": [
        "fig, ax = plt.subplots(figsize=(10,10))\n",
        "\n",
        "sns.heatmap(X_train.corr(), annot=True, ax=ax)"
      ],
      "metadata": {
        "colab": {
          "base_uri": "https://localhost:8080/",
          "height": 941
        },
        "id": "SzYp2SNPhzv0",
        "outputId": "abf4b951-b5e8-4394-e0ed-1f1aa8e255f4"
      },
      "execution_count": 18,
      "outputs": [
        {
          "output_type": "execute_result",
          "data": {
            "text/plain": [
              "<Axes: >"
            ]
          },
          "metadata": {},
          "execution_count": 18
        },
        {
          "output_type": "display_data",
          "data": {
            "text/plain": [
              "<Figure size 1000x1000 with 2 Axes>"
            ],
            "image/png": "[encoded data removed]"
          },
          "metadata": {}
        }
      ]
    },
    {
      "cell_type": "code",
      "source": [
        "target_correlation = X_train.corrwith(y_train['torque'])"
      ],
      "metadata": {
        "id": "m60xNepJl5Ho"
      },
      "execution_count": 19,
      "outputs": []
    },
    {
      "cell_type": "code",
      "source": [
        "sns.barplot(x=sorted(target_correlation.values, key=abs,\n",
        "                  reverse=True), y=target_correlation.index, orient='h')\n",
        "plt.title(\"Correlation with target variable torque\")"
      ],
      "metadata": {
        "colab": {
          "base_uri": "https://localhost:8080/",
          "height": 469
        },
        "id": "YJFZsOhoh_cw",
        "outputId": "24fb7522-6efc-4fa1-acda-d25b99d2a70e"
      },
      "execution_count": 20,
      "outputs": [
        {
          "output_type": "execute_result",
          "data": {
            "text/plain": [
              "Text(0.5, 1.0, 'Correlation with target variable torque')"
            ]
          },
          "metadata": {},
          "execution_count": 20
        },
        {
          "output_type": "display_data",
          "data": {
            "text/plain": [
              "<Figure size 640x480 with 1 Axes>"
            ],
            "image/png": "[encoded data removed]"
          },
          "metadata": {}
        }
      ]
    },
    {
      "cell_type": "code",
      "source": [
        "sorted(target_correlation.values, key=abs, reverse=True)"
      ],
      "metadata": {
        "colab": {
          "base_uri": "https://localhost:8080/"
        },
        "id": "3iEzIiFYwXbJ",
        "outputId": "6de177b4-6174-409d-dd24-1d1cc4b08123"
      },
      "execution_count": 21,
      "outputs": [
        {
          "output_type": "execute_result",
          "data": {
            "text/plain": [
              "[0.9964560815600331,\n",
              " -0.7537196145275824,\n",
              " -0.3166146938795659,\n",
              " -0.2741003352727426,\n",
              " -0.2579124496383072,\n",
              " -0.1363794189847251,\n",
              " -0.11782436226168769,\n",
              " -0.11701649628209368,\n",
              " 0.09578235821593656,\n",
              " -0.04416496386829849,\n",
              " -0.018275732271170814]"
            ]
          },
          "metadata": {},
          "execution_count": 21
        }
      ]
    },
    {
      "cell_type": "code",
      "source": [
        "df.describe()"
      ],
      "metadata": {
        "colab": {
          "base_uri": "https://localhost:8080/",
          "height": 300
        },
        "id": "Y06Q1Arq_obq",
        "outputId": "138a2792-ad7d-4101-f511-59f7719ab416"
      },
      "execution_count": 22,
      "outputs": [
        {
          "output_type": "execute_result",
          "data": {
            "text/plain": [
              "                u_q       coolant  stator_winding           u_d  stator_tooth  \\\n",
              "count  1.330816e+06  1.330816e+06    1.330816e+06  1.330816e+06  1.330816e+06   \n",
              "mean   5.427900e+01  3.622999e+01    6.634275e+01 -2.513381e+01  5.687858e+01   \n",
              "std    4.417323e+01  2.178615e+01    2.867206e+01  6.309197e+01  2.295223e+01   \n",
              "min   -2.529093e+01  1.062375e+01    1.858582e+01 -1.315304e+02  1.813398e+01   \n",
              "25%    1.206992e+01  1.869814e+01    4.278796e+01 -7.869090e+01  3.841601e+01   \n",
              "50%    4.893818e+01  2.690014e+01    6.511013e+01 -7.429755e+00  5.603635e+01   \n",
              "75%    9.003439e+01  4.985749e+01    8.814114e+01  1.470271e+00  7.558668e+01   \n",
              "max    1.330370e+02  1.015985e+02    1.413629e+02  1.314698e+02  1.119464e+02   \n",
              "\n",
              "        motor_speed           i_d           i_q            pm   stator_yoke  \\\n",
              "count  1.330816e+06  1.330816e+06  1.330816e+06  1.330816e+06  1.330816e+06   \n",
              "mean   2.202081e+03 -6.871681e+01  3.741278e+01  5.850678e+01  4.818796e+01   \n",
              "std    1.859663e+03  6.493323e+01  9.218188e+01  1.900150e+01  1.999100e+01   \n",
              "min   -2.755491e+02 -2.780036e+02 -2.934268e+02  2.085696e+01  1.807669e+01   \n",
              "25%    3.171107e+02 -1.154061e+02  1.095863e+00  4.315158e+01  3.199033e+01   \n",
              "50%    1.999977e+03 -5.109376e+01  1.577401e+01  6.026629e+01  4.562551e+01   \n",
              "75%    3.760639e+03 -2.979688e+00  1.006121e+02  7.200837e+01  6.146083e+01   \n",
              "max    6.000015e+03  5.189670e-02  3.017079e+02  1.136066e+02  1.011480e+02   \n",
              "\n",
              "            ambient        torque  \n",
              "count  1.330816e+06  1.330816e+06  \n",
              "mean   2.456526e+01  3.110603e+01  \n",
              "std    1.929522e+00  7.713575e+01  \n",
              "min    8.783478e+00 -2.464667e+02  \n",
              "25%    2.318480e+01 -1.374265e-01  \n",
              "50%    2.479733e+01  1.086035e+01  \n",
              "75%    2.621702e+01  9.159718e+01  \n",
              "max    3.071420e+01  2.610057e+02  "
            ],
            "text/html": [
              "\n",
              "  <div id=\"df-c3f84c1d-b268-4612-90cd-19541407d1f3\" class=\"colab-df-container\">\n",
              "    <div>\n",
              "<style scoped>\n",
              "    .dataframe tbody tr th:only-of-type {\n",
              "        vertical-align: middle;\n",
              "    }\n",
              "\n",
              "    .dataframe tbody tr th {\n",
              "        vertical-align: top;\n",
              "    }\n",
              "\n",
              "    .dataframe thead th {\n",
              "        text-align: right;\n",
              "    }\n",
              "</style>\n",
              "<table border=\"1\" class=\"dataframe\">\n",
              "  <thead>\n",
              "    <tr style=\"text-align: right;\">\n",
              "      <th></th>\n",
              "      <th>u_q</th>\n",
              "      <th>coolant</th>\n",
              "      <th>stator_winding</th>\n",
              "      <th>u_d</th>\n",
              "      <th>stator_tooth</th>\n",
              "      <th>motor_speed</th>\n",
              "      <th>i_d</th>\n",
              "      <th>i_q</th>\n",
              "      <th>pm</th>\n",
              "      <th>stator_yoke</th>\n",
              "      <th>ambient</th>\n",
              "      <th>torque</th>\n",
              "    </tr>\n",
              "  </thead>\n",
              "  <tbody>\n",
              "    <tr>\n",
              "      <th>count</th>\n",
              "      <td>1.330816e+06</td>\n",
              "      <td>1.330816e+06</td>\n",
              "      <td>1.330816e+06</td>\n",
              "      <td>1.330816e+06</td>\n",
              "      <td>1.330816e+06</td>\n",
              "      <td>1.330816e+06</td>\n",
              "      <td>1.330816e+06</td>\n",
              "      <td>1.330816e+06</td>\n",
              "      <td>1.330816e+06</td>\n",
              "      <td>1.330816e+06</td>\n",
              "      <td>1.330816e+06</td>\n",
              "      <td>1.330816e+06</td>\n",
              "    </tr>\n",
              "    <tr>\n",
              "      <th>mean</th>\n",
              "      <td>5.427900e+01</td>\n",
              "      <td>3.622999e+01</td>\n",
              "      <td>6.634275e+01</td>\n",
              "      <td>-2.513381e+01</td>\n",
              "      <td>5.687858e+01</td>\n",
              "      <td>2.202081e+03</td>\n",
              "      <td>-6.871681e+01</td>\n",
              "      <td>3.741278e+01</td>\n",
              "      <td>5.850678e+01</td>\n",
              "      <td>4.818796e+01</td>\n",
              "      <td>2.456526e+01</td>\n",
              "      <td>3.110603e+01</td>\n",
              "    </tr>\n",
              "    <tr>\n",
              "      <th>std</th>\n",
              "      <td>4.417323e+01</td>\n",
              "      <td>2.178615e+01</td>\n",
              "      <td>2.867206e+01</td>\n",
              "      <td>6.309197e+01</td>\n",
              "      <td>2.295223e+01</td>\n",
              "      <td>1.859663e+03</td>\n",
              "      <td>6.493323e+01</td>\n",
              "      <td>9.218188e+01</td>\n",
              "      <td>1.900150e+01</td>\n",
              "      <td>1.999100e+01</td>\n",
              "      <td>1.929522e+00</td>\n",
              "      <td>7.713575e+01</td>\n",
              "    </tr>\n",
              "    <tr>\n",
              "      <th>min</th>\n",
              "      <td>-2.529093e+01</td>\n",
              "      <td>1.062375e+01</td>\n",
              "      <td>1.858582e+01</td>\n",
              "      <td>-1.315304e+02</td>\n",
              "      <td>1.813398e+01</td>\n",
              "      <td>-2.755491e+02</td>\n",
              "      <td>-2.780036e+02</td>\n",
              "      <td>-2.934268e+02</td>\n",
              "      <td>2.085696e+01</td>\n",
              "      <td>1.807669e+01</td>\n",
              "      <td>8.783478e+00</td>\n",
              "      <td>-2.464667e+02</td>\n",
              "    </tr>\n",
              "    <tr>\n",
              "      <th>25%</th>\n",
              "      <td>1.206992e+01</td>\n",
              "      <td>1.869814e+01</td>\n",
              "      <td>4.278796e+01</td>\n",
              "      <td>-7.869090e+01</td>\n",
              "      <td>3.841601e+01</td>\n",
              "      <td>3.171107e+02</td>\n",
              "      <td>-1.154061e+02</td>\n",
              "      <td>1.095863e+00</td>\n",
              "      <td>4.315158e+01</td>\n",
              "      <td>3.199033e+01</td>\n",
              "      <td>2.318480e+01</td>\n",
              "      <td>-1.374265e-01</td>\n",
              "    </tr>\n",
              "    <tr>\n",
              "      <th>50%</th>\n",
              "      <td>4.893818e+01</td>\n",
              "      <td>2.690014e+01</td>\n",
              "      <td>6.511013e+01</td>\n",
              "      <td>-7.429755e+00</td>\n",
              "      <td>5.603635e+01</td>\n",
              "      <td>1.999977e+03</td>\n",
              "      <td>-5.109376e+01</td>\n",
              "      <td>1.577401e+01</td>\n",
              "      <td>6.026629e+01</td>\n",
              "      <td>4.562551e+01</td>\n",
              "      <td>2.479733e+01</td>\n",
              "      <td>1.086035e+01</td>\n",
              "    </tr>\n",
              "    <tr>\n",
              "      <th>75%</th>\n",
              "      <td>9.003439e+01</td>\n",
              "      <td>4.985749e+01</td>\n",
              "      <td>8.814114e+01</td>\n",
              "      <td>1.470271e+00</td>\n",
              "      <td>7.558668e+01</td>\n",
              "      <td>3.760639e+03</td>\n",
              "      <td>-2.979688e+00</td>\n",
              "      <td>1.006121e+02</td>\n",
              "      <td>7.200837e+01</td>\n",
              "      <td>6.146083e+01</td>\n",
              "      <td>2.621702e+01</td>\n",
              "      <td>9.159718e+01</td>\n",
              "    </tr>\n",
              "    <tr>\n",
              "      <th>max</th>\n",
              "      <td>1.330370e+02</td>\n",
              "      <td>1.015985e+02</td>\n",
              "      <td>1.413629e+02</td>\n",
              "      <td>1.314698e+02</td>\n",
              "      <td>1.119464e+02</td>\n",
              "      <td>6.000015e+03</td>\n",
              "      <td>5.189670e-02</td>\n",
              "      <td>3.017079e+02</td>\n",
              "      <td>1.136066e+02</td>\n",
              "      <td>1.011480e+02</td>\n",
              "      <td>3.071420e+01</td>\n",
              "      <td>2.610057e+02</td>\n",
              "    </tr>\n",
              "  </tbody>\n",
              "</table>\n",
              "</div>\n",
              "    <div class=\"colab-df-buttons\">\n",
              "\n",
              "  <div class=\"colab-df-container\">\n",
              "    <button class=\"colab-df-convert\" onclick=\"convertToInteractive('df-c3f84c1d-b268-4612-90cd-19541407d1f3')\"\n",
              "            title=\"Convert this dataframe to an interactive table.\"\n",
              "            style=\"display:none;\">\n",
              "\n",
              "  <svg xmlns=\"http://www.w3.org/2000/svg\" height=\"24px\" viewBox=\"0 -960 960 960\">\n",
              "    <path d=\"M120-120v-720h720v720H120Zm60-500h600v-160H180v160Zm220 220h160v-160H400v160Zm0 220h160v-160H400v160ZM180-400h160v-160H180v160Zm440 0h160v-160H620v160ZM180-180h160v-160H180v160Zm440 0h160v-160H620v160Z\"/>\n",
              "  </svg>\n",
              "    </button>\n",
              "\n",
              "  <style>\n",
              "    .colab-df-container {\n",
              "      display:flex;\n",
              "      gap: 12px;\n",
              "    }\n",
              "\n",
              "    .colab-df-convert {\n",
              "      background-color: #E8F0FE;\n",
              "      border: none;\n",
              "      border-radius: 50%;\n",
              "      cursor: pointer;\n",
              "      display: none;\n",
              "      fill: #1967D2;\n",
              "      height: 32px;\n",
              "      padding: 0 0 0 0;\n",
              "      width: 32px;\n",
              "    }\n",
              "\n",
              "    .colab-df-convert:hover {\n",
              "      background-color: #E2EBFA;\n",
              "      box-shadow: 0px 1px 2px rgba(60, 64, 67, 0.3), 0px 1px 3px 1px rgba(60, 64, 67, 0.15);\n",
              "      fill: #174EA6;\n",
              "    }\n",
              "\n",
              "    .colab-df-buttons div {\n",
              "      margin-bottom: 4px;\n",
              "    }\n",
              "\n",
              "    [theme=dark] .colab-df-convert {\n",
              "      background-color: #3B4455;\n",
              "      fill: #D2E3FC;\n",
              "    }\n",
              "\n",
              "    [theme=dark] .colab-df-convert:hover {\n",
              "      background-color: #434B5C;\n",
              "      box-shadow: 0px 1px 3px 1px rgba(0, 0, 0, 0.15);\n",
              "      filter: drop-shadow(0px 1px 2px rgba(0, 0, 0, 0.3));\n",
              "      fill: #FFFFFF;\n",
              "    }\n",
              "  </style>\n",
              "\n",
              "    <script>\n",
              "      const buttonEl =\n",
              "        document.querySelector('#df-c3f84c1d-b268-4612-90cd-19541407d1f3 button.colab-df-convert');\n",
              "      buttonEl.style.display =\n",
              "        google.colab.kernel.accessAllowed ? 'block' : 'none';\n",
              "\n",
              "      async function convertToInteractive(key) {\n",
              "        const element = document.querySelector('#df-c3f84c1d-b268-4612-90cd-19541407d1f3');\n",
              "        const dataTable =\n",
              "          await google.colab.kernel.invokeFunction('convertToInteractive',\n",
              "                                                    [key], {});\n",
              "        if (!dataTable) return;\n",
              "\n",
              "        const docLinkHtml = 'Like what you see? Visit the ' +\n",
              "          '<a target=\"_blank\" href=https://colab.research.google.com/notebooks/data_table.ipynb>data table notebook</a>'\n",
              "          + ' to learn more about interactive tables.';\n",
              "        element.innerHTML = '';\n",
              "        dataTable['output_type'] = 'display_data';\n",
              "        await google.colab.output.renderOutput(dataTable, element);\n",
              "        const docLink = document.createElement('div');\n",
              "        docLink.innerHTML = docLinkHtml;\n",
              "        element.appendChild(docLink);\n",
              "      }\n",
              "    </script>\n",
              "  </div>\n",
              "\n",
              "\n",
              "<div id=\"df-fe2ce688-c319-4dca-b15a-1162c77f575f\">\n",
              "  <button class=\"colab-df-quickchart\" onclick=\"quickchart('df-fe2ce688-c319-4dca-b15a-1162c77f575f')\"\n",
              "            title=\"Suggest charts\"\n",
              "            style=\"display:none;\">\n",
              "\n",
              "<svg xmlns=\"http://www.w3.org/2000/svg\" height=\"24px\"viewBox=\"0 0 24 24\"\n",
              "     width=\"24px\">\n",
              "    <g>\n",
              "        <path d=\"M19 3H5c-1.1 0-2 .9-2 2v14c0 1.1.9 2 2 2h14c1.1 0 2-.9 2-2V5c0-1.1-.9-2-2-2zM9 17H7v-7h2v7zm4 0h-2V7h2v10zm4 0h-2v-4h2v4z\"/>\n",
              "    </g>\n",
              "</svg>\n",
              "  </button>\n",
              "\n",
              "<style>\n",
              "  .colab-df-quickchart {\n",
              "      --bg-color: #E8F0FE;\n",
              "      --fill-color: #1967D2;\n",
              "      --hover-bg-color: #E2EBFA;\n",
              "      --hover-fill-color: #174EA6;\n",
              "      --disabled-fill-color: #AAA;\n",
              "      --disabled-bg-color: #DDD;\n",
              "  }\n",
              "\n",
              "  [theme=dark] .colab-df-quickchart {\n",
              "      --bg-color: #3B4455;\n",
              "      --fill-color: #D2E3FC;\n",
              "      --hover-bg-color: #434B5C;\n",
              "      --hover-fill-color: #FFFFFF;\n",
              "      --disabled-bg-color: #3B4455;\n",
              "      --disabled-fill-color: #666;\n",
              "  }\n",
              "\n",
              "  .colab-df-quickchart {\n",
              "    background-color: var(--bg-color);\n",
              "    border: none;\n",
              "    border-radius: 50%;\n",
              "    cursor: pointer;\n",
              "    display: none;\n",
              "    fill: var(--fill-color);\n",
              "    height: 32px;\n",
              "    padding: 0;\n",
              "    width: 32px;\n",
              "  }\n",
              "\n",
              "  .colab-df-quickchart:hover {\n",
              "    background-color: var(--hover-bg-color);\n",
              "    box-shadow: 0 1px 2px rgba(60, 64, 67, 0.3), 0 1px 3px 1px rgba(60, 64, 67, 0.15);\n",
              "    fill: var(--button-hover-fill-color);\n",
              "  }\n",
              "\n",
              "  .colab-df-quickchart-complete:disabled,\n",
              "  .colab-df-quickchart-complete:disabled:hover {\n",
              "    background-color: var(--disabled-bg-color);\n",
              "    fill: var(--disabled-fill-color);\n",
              "    box-shadow: none;\n",
              "  }\n",
              "\n",
              "  .colab-df-spinner {\n",
              "    border: 2px solid var(--fill-color);\n",
              "    border-color: transparent;\n",
              "    border-bottom-color: var(--fill-color);\n",
              "    animation:\n",
              "      spin 1s steps(1) infinite;\n",
              "  }\n",
              "\n",
              "  @keyframes spin {\n",
              "    0% {\n",
              "      border-color: transparent;\n",
              "      border-bottom-color: var(--fill-color);\n",
              "      border-left-color: var(--fill-color);\n",
              "    }\n",
              "    20% {\n",
              "      border-color: transparent;\n",
              "      border-left-color: var(--fill-color);\n",
              "      border-top-color: var(--fill-color);\n",
              "    }\n",
              "    30% {\n",
              "      border-color: transparent;\n",
              "      border-left-color: var(--fill-color);\n",
              "      border-top-color: var(--fill-color);\n",
              "      border-right-color: var(--fill-color);\n",
              "    }\n",
              "    40% {\n",
              "      border-color: transparent;\n",
              "      border-right-color: var(--fill-color);\n",
              "      border-top-color: var(--fill-color);\n",
              "    }\n",
              "    60% {\n",
              "      border-color: transparent;\n",
              "      border-right-color: var(--fill-color);\n",
              "    }\n",
              "    80% {\n",
              "      border-color: transparent;\n",
              "      border-right-color: var(--fill-color);\n",
              "      border-bottom-color: var(--fill-color);\n",
              "    }\n",
              "    90% {\n",
              "      border-color: transparent;\n",
              "      border-bottom-color: var(--fill-color);\n",
              "    }\n",
              "  }\n",
              "</style>\n",
              "\n",
              "  <script>\n",
              "    async function quickchart(key) {\n",
              "      const quickchartButtonEl =\n",
              "        document.querySelector('#' + key + ' button');\n",
              "      quickchartButtonEl.disabled = true;  // To prevent multiple clicks.\n",
              "      quickchartButtonEl.classList.add('colab-df-spinner');\n",
              "      try {\n",
              "        const charts = await google.colab.kernel.invokeFunction(\n",
              "            'suggestCharts', [key], {});\n",
              "      } catch (error) {\n",
              "        console.error('Error during call to suggestCharts:', error);\n",
              "      }\n",
              "      quickchartButtonEl.classList.remove('colab-df-spinner');\n",
              "      quickchartButtonEl.classList.add('colab-df-quickchart-complete');\n",
              "    }\n",
              "    (() => {\n",
              "      let quickchartButtonEl =\n",
              "        document.querySelector('#df-fe2ce688-c319-4dca-b15a-1162c77f575f button');\n",
              "      quickchartButtonEl.style.display =\n",
              "        google.colab.kernel.accessAllowed ? 'block' : 'none';\n",
              "    })();\n",
              "  </script>\n",
              "</div>\n",
              "\n",
              "    </div>\n",
              "  </div>\n"
            ],
            "application/vnd.google.colaboratory.intrinsic+json": {
              "type": "dataframe",
              "summary": "{\n  \"name\": \"df\",\n  \"rows\": 8,\n  \"fields\": [\n    {\n      \"column\": \"u_q\",\n      \"properties\": {\n        \"dtype\": \"number\",\n        \"std\": 470496.4680466902,\n        \"min\": -25.290929794311523,\n        \"max\": 1330816.0,\n        \"num_unique_values\": 8,\n        \"samples\": [\n          54.2790045465128,\n          48.938180923461914,\n          1330816.0\n        ],\n        \"semantic_type\": \"\",\n        \"description\": \"\"\n      }\n    },\n    {\n      \"column\": \"coolant\",\n      \"properties\": {\n        \"dtype\": \"number\",\n        \"std\": 470501.0903384921,\n        \"min\": 10.623751273643387,\n        \"max\": 1330816.0,\n        \"num_unique_values\": 8,\n        \"samples\": [\n          36.22999484011877,\n          26.90014082914239,\n          1330816.0\n        ],\n        \"semantic_type\": \"\",\n        \"description\": \"\"\n      }\n    },\n    {\n      \"column\": \"stator_winding\",\n      \"properties\": {\n        \"dtype\": \"number\",\n        \"std\": 470491.73154688603,\n        \"min\": 18.5858154296875,\n        \"max\": 1330816.0,\n        \"num_unique_values\": 8,\n        \"samples\": [\n          66.34274539496714,\n          65.11012887949082,\n          1330816.0\n        ],\n        \"semantic_type\": \"\",\n        \"description\": \"\"\n      }\n    },\n    {\n      \"column\": \"u_d\",\n      \"properties\": {\n        \"dtype\": \"number\",\n        \"std\": 470516.8772830174,\n        \"min\": -131.53041076660156,\n        \"max\": 1330816.0,\n        \"num_unique_values\": 8,\n        \"samples\": [\n          -25.133809392586173,\n          -7.429754544163284,\n          1330816.0\n        ],\n        \"semantic_type\": \"\",\n        \"description\": \"\"\n      }\n    },\n    {\n      \"column\": \"stator_tooth\",\n      \"properties\": {\n        \"dtype\": \"number\",\n        \"std\": 470495.3196308267,\n        \"min\": 18.133975982666016,\n        \"max\": 1330816.0,\n        \"num_unique_values\": 8,\n        \"samples\": [\n          56.87858199679094,\n          56.036345494262854,\n          1330816.0\n        ],\n        \"semantic_type\": \"\",\n        \"description\": \"\"\n      }\n    },\n    {\n      \"column\": \"motor_speed\",\n      \"properties\": {\n        \"dtype\": \"number\",\n        \"std\": 469717.3155861386,\n        \"min\": -275.54914411131955,\n        \"max\": 1330816.0,\n        \"num_unique_values\": 8,\n        \"samples\": [\n          2202.0807277889794,\n          1999.9766845703125,\n          1330816.0\n        ],\n        \"semantic_type\": \"\",\n        \"description\": \"\"\n      }\n    },\n    {\n      \"column\": \"i_d\",\n      \"properties\": {\n        \"dtype\": \"number\",\n        \"std\": 470537.30993913184,\n        \"min\": -278.0036315917969,\n        \"max\": 1330816.0,\n        \"num_unique_values\": 8,\n        \"samples\": [\n          -68.71680961864895,\n          -51.09376297213717,\n          1330816.0\n        ],\n        \"semantic_type\": \"\",\n        \"description\": \"\"\n      }\n    },\n    {\n      \"column\": \"i_q\",\n      \"properties\": {\n        \"dtype\": \"number\",\n        \"std\": 470501.64009541343,\n        \"min\": -293.426792941564,\n        \"max\": 1330816.0,\n        \"num_unique_values\": 8,\n        \"samples\": [\n          37.412782347495515,\n          15.774006843566896,\n          1330816.0\n        ],\n        \"semantic_type\": \"\",\n        \"description\": \"\"\n      }\n    },\n    {\n      \"column\": \"pm\",\n      \"properties\": {\n        \"dtype\": \"number\",\n        \"std\": 470494.94346337346,\n        \"min\": 19.001497713975436,\n        \"max\": 1330816.0,\n        \"num_unique_values\": 8,\n        \"samples\": [\n          58.50677585061559,\n          60.26628701504853,\n          1330816.0\n        ],\n        \"semantic_type\": \"\",\n        \"description\": \"\"\n      }\n    },\n    {\n      \"column\": \"stator_yoke\",\n      \"properties\": {\n        \"dtype\": \"number\",\n        \"std\": 470498.02006007783,\n        \"min\": 18.07668876647949,\n        \"max\": 1330816.0,\n        \"num_unique_values\": 8,\n        \"samples\": [\n          48.187964864903044,\n          45.62550924113822,\n          1330816.0\n        ],\n        \"semantic_type\": \"\",\n        \"description\": \"\"\n      }\n    },\n    {\n      \"column\": \"ambient\",\n      \"properties\": {\n        \"dtype\": \"number\",\n        \"std\": 470507.4284103038,\n        \"min\": 1.9295218592241008,\n        \"max\": 1330816.0,\n        \"num_unique_values\": 8,\n        \"samples\": [\n          24.565255952081735,\n          24.79732676998298,\n          1330816.0\n        ],\n        \"semantic_type\": \"\",\n        \"description\": \"\"\n      }\n    },\n    {\n      \"column\": \"torque\",\n      \"properties\": {\n        \"dtype\": \"number\",\n        \"std\": 470503.16054872476,\n        \"min\": -246.46666318909087,\n        \"max\": 1330816.0,\n        \"num_unique_values\": 8,\n        \"samples\": [\n          31.106032379734433,\n          10.860353946685791,\n          1330816.0\n        ],\n        \"semantic_type\": \"\",\n        \"description\": \"\"\n      }\n    }\n  ]\n}"
            }
          },
          "metadata": {},
          "execution_count": 22
        }
      ]
    },
    {
      "cell_type": "markdown",
      "source": [
        "### NN Architecture"
      ],
      "metadata": {
        "id": "Lv6ZAuUiTy53"
      }
    },
    {
      "cell_type": "code",
      "source": [
        "import torch\n",
        "import torch.nn as nn\n",
        "import torch.optim as optim\n",
        "from torch.utils.data import Dataset, TensorDataset, DataLoader\n",
        "import torchvision.transforms as T\n",
        "\n",
        "device = 'cuda' if torch.cuda.is_available() else 'cpu'\n",
        "device"
      ],
      "metadata": {
        "id": "Ot9K2TJjkdj-",
        "colab": {
          "base_uri": "https://localhost:8080/",
          "height": 34
        },
        "outputId": "276cbf41-d6c5-4dc7-f85c-79161cc0a1ed"
      },
      "execution_count": 23,
      "outputs": [
        {
          "output_type": "execute_result",
          "data": {
            "text/plain": [
              "'cuda'"
            ],
            "application/vnd.google.colaboratory.intrinsic+json": {
              "type": "string"
            }
          },
          "metadata": {},
          "execution_count": 23
        }
      ]
    },
    {
      "cell_type": "code",
      "source": [
        "class MotorDataset(Dataset):\n",
        "    def __init__(self, data, targets, transform=None):\n",
        "        self.data = torch.tensor(data.values)\n",
        "        self.targets = torch.tensor(targets.values)\n",
        "        self.transform = transform\n",
        "\n",
        "    def __len__(self):\n",
        "        return len(self.data)\n",
        "\n",
        "    def __getitem__(self, idx):\n",
        "        x = self.data[idx]\n",
        "        y = self.targets[idx]\n",
        "        return x, y"
      ],
      "metadata": {
        "id": "KPoEbSwdihlU"
      },
      "execution_count": 24,
      "outputs": []
    },
    {
      "cell_type": "code",
      "source": [
        "train_dataset = MotorDataset(X_train, y_train)\n",
        "test_dataset = MotorDataset(X_test, y_test)"
      ],
      "metadata": {
        "id": "AwP2x9IVzPJZ"
      },
      "execution_count": 25,
      "outputs": []
    },
    {
      "cell_type": "code",
      "source": [
        "train_dataset[0]"
      ],
      "metadata": {
        "colab": {
          "base_uri": "https://localhost:8080/"
        },
        "id": "T60khALgRuX6",
        "outputId": "59c8aae2-b653-4bc2-f658-6479dd0ba075"
      },
      "execution_count": 26,
      "outputs": [
        {
          "output_type": "execute_result",
          "data": {
            "text/plain": [
              "(tensor([-0.3402,  0.6195,  1.3413, -0.5223,  1.3626, -0.6254, -0.0209,  1.5386,\n",
              "          0.9262,  1.1975,  0.6036], dtype=torch.float64),\n",
              " tensor([1.4201], dtype=torch.float64))"
            ]
          },
          "metadata": {},
          "execution_count": 26
        }
      ]
    },
    {
      "cell_type": "code",
      "source": [
        "batch_size = 16"
      ],
      "metadata": {
        "id": "fZJMW-8eSC-U"
      },
      "execution_count": 27,
      "outputs": []
    },
    {
      "cell_type": "code",
      "source": [
        "train_loader = DataLoader(train_dataset, batch_size=batch_size, shuffle=True)\n",
        "test_loader = DataLoader(test_dataset, batch_size=batch_size, shuffle=True)"
      ],
      "metadata": {
        "id": "THDUvCo8iXjT"
      },
      "execution_count": 28,
      "outputs": []
    },
    {
      "cell_type": "code",
      "source": [
        "class NNRegression(nn.Module):\n",
        "    def __init__(self):\n",
        "        super(NNRegression, self).__init__()\n",
        "        self.fc1 = nn.Linear(11, 11)\n",
        "        self.fc2 = nn.Linear(11, 12)\n",
        "        self.fc3 = nn.Linear(12, 5)\n",
        "        self.fc4 = nn.Linear(5, 1)\n",
        "        self.activation = nn.ReLU()\n",
        "\n",
        "    def forward(self, x):\n",
        "        x = x.float()\n",
        "        x = self.activation(self.fc1(x))\n",
        "        x = self.activation(self.fc2(x))\n",
        "        x = self.activation(self.fc3(x))\n",
        "        x = self.fc4(x)\n",
        "        return x"
      ],
      "metadata": {
        "id": "cwTNRi5MiZt5"
      },
      "execution_count": 29,
      "outputs": []
    },
    {
      "cell_type": "code",
      "source": [
        "! pip install torchinfo"
      ],
      "metadata": {
        "colab": {
          "base_uri": "https://localhost:8080/"
        },
        "id": "QK4xdI3iTXpl",
        "outputId": "11690c74-b3ed-4f4d-f5fb-e42097a6841e"
      },
      "execution_count": 30,
      "outputs": [
        {
          "output_type": "stream",
          "name": "stdout",
          "text": [
            "Requirement already satisfied: torchinfo in /usr/local/lib/python3.10/dist-packages (1.8.0)\n"
          ]
        }
      ]
    },
    {
      "cell_type": "code",
      "source": [
        "from torchinfo import summary\n",
        "\n",
        "model = NNRegression().to(device)\n",
        "summary(model, input_size=(batch_size, 11))"
      ],
      "metadata": {
        "colab": {
          "base_uri": "https://localhost:8080/"
        },
        "id": "WohL5jblTccF",
        "outputId": "c8f846fe-4f44-444c-aa87-7c1cd54644df"
      },
      "execution_count": 31,
      "outputs": [
        {
          "output_type": "execute_result",
          "data": {
            "text/plain": [
              "==========================================================================================\n",
              "Layer (type:depth-idx)                   Output Shape              Param #\n",
              "==========================================================================================\n",
              "NNRegression                             [16, 1]                   --\n",
              "├─Linear: 1-1                            [16, 11]                  132\n",
              "├─ReLU: 1-2                              [16, 11]                  --\n",
              "├─Linear: 1-3                            [16, 12]                  144\n",
              "├─ReLU: 1-4                              [16, 12]                  --\n",
              "├─Linear: 1-5                            [16, 5]                   65\n",
              "├─ReLU: 1-6                              [16, 5]                   --\n",
              "├─Linear: 1-7                            [16, 1]                   6\n",
              "==========================================================================================\n",
              "Total params: 347\n",
              "Trainable params: 347\n",
              "Non-trainable params: 0\n",
              "Total mult-adds (M): 0.01\n",
              "==========================================================================================\n",
              "Input size (MB): 0.00\n",
              "Forward/backward pass size (MB): 0.00\n",
              "Params size (MB): 0.00\n",
              "Estimated Total Size (MB): 0.01\n",
              "=========================================================================================="
            ]
          },
          "metadata": {},
          "execution_count": 31
        }
      ]
    },
    {
      "cell_type": "markdown",
      "source": [
        "### Training\n"
      ],
      "metadata": {
        "id": "X1eJC3_TT-uM"
      }
    },
    {
      "cell_type": "code",
      "source": [
        "from tqdm import tqdm"
      ],
      "metadata": {
        "id": "mPuJ5K5xUCqa"
      },
      "execution_count": 32,
      "outputs": []
    },
    {
      "cell_type": "code",
      "source": [
        "train_losses = []\n",
        "\n",
        "def train(model: NNRegression, epoch: int):\n",
        "    print(f'Epoch - {epoch}')\n",
        "\n",
        "    model.train()\n",
        "    running_loss = 0\n",
        "    for data in tqdm(train_loader):\n",
        "        inputs, targets = data[0].to(device), data[1].to(device)\n",
        "        optimizer.zero_grad()\n",
        "        outputs = model(inputs)\n",
        "        loss = criterion(outputs.float(), targets.float())\n",
        "        loss.backward()\n",
        "        optimizer.step()\n",
        "\n",
        "        running_loss += loss.item()\n",
        "\n",
        "    train_loss = running_loss / len(train_loader)\n",
        "    train_losses.append(train_loss)\n",
        "    print(f'Train loss - {train_loss}')"
      ],
      "metadata": {
        "id": "D_w1L9GcicUw"
      },
      "execution_count": 33,
      "outputs": []
    },
    {
      "cell_type": "code",
      "source": [
        "val_losses = []\n",
        "\n",
        "def val(model: NNRegression, epoch: int):\n",
        "    print(f'Epoch - {epoch}')\n",
        "\n",
        "    model.eval()\n",
        "    running_loss = 0\n",
        "    with torch.no_grad():\n",
        "        for data in tqdm(test_loader):\n",
        "            inputs, targets = data[0].to(device), data[1].to(device)\n",
        "            outputs = model(inputs)\n",
        "            loss = criterion(outputs, targets)\n",
        "            running_loss += loss.item()\n",
        "\n",
        "        val_loss = running_loss / len(test_loader)\n",
        "        val_losses.append(val_loss)\n",
        "        print(f'Val loss - {val_loss}')"
      ],
      "metadata": {
        "id": "8ABmve5SVROX"
      },
      "execution_count": 34,
      "outputs": []
    },
    {
      "cell_type": "code",
      "source": [
        "criterion = nn.MSELoss(reduction='mean')\n",
        "optimizer = optim.Adam(model.parameters(), lr=0.001)"
      ],
      "metadata": {
        "id": "N15NzRKIVndF"
      },
      "execution_count": 35,
      "outputs": []
    },
    {
      "cell_type": "code",
      "source": [
        "max_epochs = 20\n",
        "for epoch in range(1, max_epochs + 1):\n",
        "    train(model, epoch)\n",
        "    val(model, epoch)"
      ],
      "metadata": {
        "colab": {
          "base_uri": "https://localhost:8080/"
        },
        "id": "jrQXHJlHVvWA",
        "outputId": "89209708-e314-4436-f92c-adc858952bb8"
      },
      "execution_count": 36,
      "outputs": [
        {
          "metadata": {
            "tags": null
          },
          "name": "stdout",
          "output_type": "stream",
          "text": [
            "Epoch - 1\n"
          ]
        },
        {
          "metadata": {
            "tags": null
          },
          "name": "stderr",
          "output_type": "stream",
          "text": [
            "100%|██████████| 55728/55728 [02:17<00:00, 406.38it/s]\n"
          ]
        },
        {
          "metadata": {
            "tags": null
          },
          "name": "stdout",
          "output_type": "stream",
          "text": [
            "Train loss - 0.0034486148320581294\n",
            "Epoch - 1\n"
          ]
        },
        {
          "metadata": {
            "tags": null
          },
          "name": "stderr",
          "output_type": "stream",
          "text": [
            "100%|██████████| 27449/27449 [00:18<00:00, 1518.67it/s]\n"
          ]
        },
        {
          "metadata": {
            "tags": null
          },
          "name": "stdout",
          "output_type": "stream",
          "text": [
            "Val loss - 0.00031170555749154133\n",
            "Epoch - 2\n"
          ]
        },
        {
          "metadata": {
            "tags": null
          },
          "name": "stderr",
          "output_type": "stream",
          "text": [
            "100%|██████████| 55728/55728 [02:07<00:00, 437.05it/s]\n"
          ]
        },
        {
          "metadata": {
            "tags": null
          },
          "name": "stdout",
          "output_type": "stream",
          "text": [
            "Train loss - 0.0003119918704253574\n",
            "Epoch - 2\n"
          ]
        },
        {
          "metadata": {
            "tags": null
          },
          "name": "stderr",
          "output_type": "stream",
          "text": [
            "100%|██████████| 27449/27449 [00:18<00:00, 1521.82it/s]\n"
          ]
        },
        {
          "metadata": {
            "tags": null
          },
          "name": "stdout",
          "output_type": "stream",
          "text": [
            "Val loss - 0.0002625554062183777\n",
            "Epoch - 3\n"
          ]
        },
        {
          "metadata": {
            "tags": null
          },
          "name": "stderr",
          "output_type": "stream",
          "text": [
            "100%|██████████| 55728/55728 [02:02<00:00, 453.39it/s]\n"
          ]
        },
        {
          "metadata": {
            "tags": null
          },
          "name": "stdout",
          "output_type": "stream",
          "text": [
            "Train loss - 0.00028625452254889955\n",
            "Epoch - 3\n"
          ]
        },
        {
          "metadata": {
            "tags": null
          },
          "name": "stderr",
          "output_type": "stream",
          "text": [
            "100%|██████████| 27449/27449 [00:18<00:00, 1457.46it/s]\n"
          ]
        },
        {
          "metadata": {
            "tags": null
          },
          "name": "stdout",
          "output_type": "stream",
          "text": [
            "Val loss - 0.00024953880891518423\n",
            "Epoch - 4\n"
          ]
        },
        {
          "metadata": {
            "tags": null
          },
          "name": "stderr",
          "output_type": "stream",
          "text": [
            "100%|██████████| 55728/55728 [02:05<00:00, 442.32it/s]\n"
          ]
        },
        {
          "metadata": {
            "tags": null
          },
          "name": "stdout",
          "output_type": "stream",
          "text": [
            "Train loss - 0.0002749453789262082\n",
            "Epoch - 4\n"
          ]
        },
        {
          "metadata": {
            "tags": null
          },
          "name": "stderr",
          "output_type": "stream",
          "text": [
            "100%|██████████| 27449/27449 [00:19<00:00, 1427.94it/s]\n"
          ]
        },
        {
          "metadata": {
            "tags": null
          },
          "name": "stdout",
          "output_type": "stream",
          "text": [
            "Val loss - 0.000240220601013881\n",
            "Epoch - 5\n"
          ]
        },
        {
          "metadata": {
            "tags": null
          },
          "name": "stderr",
          "output_type": "stream",
          "text": [
            "100%|██████████| 55728/55728 [02:03<00:00, 451.61it/s]\n"
          ]
        },
        {
          "metadata": {
            "tags": null
          },
          "name": "stdout",
          "output_type": "stream",
          "text": [
            "Train loss - 0.0002651031789594356\n",
            "Epoch - 5\n"
          ]
        },
        {
          "metadata": {
            "tags": null
          },
          "name": "stderr",
          "output_type": "stream",
          "text": [
            "100%|██████████| 27449/27449 [00:19<00:00, 1399.34it/s]\n"
          ]
        },
        {
          "metadata": {
            "tags": null
          },
          "name": "stdout",
          "output_type": "stream",
          "text": [
            "Val loss - 0.00026429022917326986\n",
            "Epoch - 6\n"
          ]
        },
        {
          "metadata": {
            "tags": null
          },
          "name": "stderr",
          "output_type": "stream",
          "text": [
            "100%|██████████| 55728/55728 [02:00<00:00, 461.22it/s]\n"
          ]
        },
        {
          "metadata": {
            "tags": null
          },
          "name": "stdout",
          "output_type": "stream",
          "text": [
            "Train loss - 0.00025656612798129604\n",
            "Epoch - 6\n"
          ]
        },
        {
          "metadata": {
            "tags": null
          },
          "name": "stderr",
          "output_type": "stream",
          "text": [
            "100%|██████████| 27449/27449 [00:18<00:00, 1447.76it/s]\n"
          ]
        },
        {
          "metadata": {
            "tags": null
          },
          "name": "stdout",
          "output_type": "stream",
          "text": [
            "Val loss - 0.00023650534542902986\n",
            "Epoch - 7\n"
          ]
        },
        {
          "metadata": {
            "tags": null
          },
          "name": "stderr",
          "output_type": "stream",
          "text": [
            "100%|██████████| 55728/55728 [02:01<00:00, 460.19it/s]\n"
          ]
        },
        {
          "metadata": {
            "tags": null
          },
          "name": "stdout",
          "output_type": "stream",
          "text": [
            "Train loss - 0.0002525710677735455\n",
            "Epoch - 7\n"
          ]
        },
        {
          "metadata": {
            "tags": null
          },
          "name": "stderr",
          "output_type": "stream",
          "text": [
            "100%|██████████| 27449/27449 [00:18<00:00, 1516.69it/s]\n"
          ]
        },
        {
          "metadata": {
            "tags": null
          },
          "name": "stdout",
          "output_type": "stream",
          "text": [
            "Val loss - 0.00024188762622798175\n",
            "Epoch - 8\n"
          ]
        },
        {
          "metadata": {
            "tags": null
          },
          "name": "stderr",
          "output_type": "stream",
          "text": [
            "100%|██████████| 55728/55728 [01:59<00:00, 465.04it/s]\n"
          ]
        },
        {
          "metadata": {
            "tags": null
          },
          "name": "stdout",
          "output_type": "stream",
          "text": [
            "Train loss - 0.00023734125863362866\n",
            "Epoch - 8\n"
          ]
        },
        {
          "metadata": {
            "tags": null
          },
          "name": "stderr",
          "output_type": "stream",
          "text": [
            "100%|██████████| 27449/27449 [00:19<00:00, 1428.40it/s]\n"
          ]
        },
        {
          "metadata": {
            "tags": null
          },
          "name": "stdout",
          "output_type": "stream",
          "text": [
            "Val loss - 0.00018999581056149698\n",
            "Epoch - 9\n"
          ]
        },
        {
          "metadata": {
            "tags": null
          },
          "name": "stderr",
          "output_type": "stream",
          "text": [
            "100%|██████████| 55728/55728 [01:59<00:00, 465.70it/s]\n"
          ]
        },
        {
          "metadata": {
            "tags": null
          },
          "name": "stdout",
          "output_type": "stream",
          "text": [
            "Train loss - 0.000216465531069547\n",
            "Epoch - 9\n"
          ]
        },
        {
          "metadata": {
            "tags": null
          },
          "name": "stderr",
          "output_type": "stream",
          "text": [
            "100%|██████████| 27449/27449 [00:18<00:00, 1495.54it/s]\n"
          ]
        },
        {
          "metadata": {
            "tags": null
          },
          "name": "stdout",
          "output_type": "stream",
          "text": [
            "Val loss - 0.00019618600411707357\n",
            "Epoch - 10\n"
          ]
        },
        {
          "metadata": {
            "tags": null
          },
          "name": "stderr",
          "output_type": "stream",
          "text": [
            "100%|██████████| 55728/55728 [02:00<00:00, 463.80it/s]\n"
          ]
        },
        {
          "metadata": {
            "tags": null
          },
          "name": "stdout",
          "output_type": "stream",
          "text": [
            "Train loss - 0.00021413589444591234\n",
            "Epoch - 10\n"
          ]
        },
        {
          "metadata": {
            "tags": null
          },
          "name": "stderr",
          "output_type": "stream",
          "text": [
            "100%|██████████| 27449/27449 [00:18<00:00, 1511.45it/s]\n"
          ]
        },
        {
          "metadata": {
            "tags": null
          },
          "name": "stdout",
          "output_type": "stream",
          "text": [
            "Val loss - 0.00022225914371805865\n",
            "Epoch - 11\n"
          ]
        },
        {
          "metadata": {
            "tags": null
          },
          "name": "stderr",
          "output_type": "stream",
          "text": [
            "100%|██████████| 55728/55728 [01:58<00:00, 470.99it/s]\n"
          ]
        },
        {
          "metadata": {
            "tags": null
          },
          "name": "stdout",
          "output_type": "stream",
          "text": [
            "Train loss - 0.0002026487342510379\n",
            "Epoch - 11\n"
          ]
        },
        {
          "metadata": {
            "tags": null
          },
          "name": "stderr",
          "output_type": "stream",
          "text": [
            "100%|██████████| 27449/27449 [00:19<00:00, 1396.12it/s]\n"
          ]
        },
        {
          "metadata": {
            "tags": null
          },
          "name": "stdout",
          "output_type": "stream",
          "text": [
            "Val loss - 0.00016031441322469762\n",
            "Epoch - 12\n"
          ]
        },
        {
          "metadata": {
            "tags": null
          },
          "name": "stderr",
          "output_type": "stream",
          "text": [
            "100%|██████████| 55728/55728 [01:58<00:00, 470.50it/s]\n"
          ]
        },
        {
          "metadata": {
            "tags": null
          },
          "name": "stdout",
          "output_type": "stream",
          "text": [
            "Train loss - 0.00021915624370277798\n",
            "Epoch - 12\n"
          ]
        },
        {
          "metadata": {
            "tags": null
          },
          "name": "stderr",
          "output_type": "stream",
          "text": [
            "100%|██████████| 27449/27449 [00:17<00:00, 1537.85it/s]\n"
          ]
        },
        {
          "metadata": {
            "tags": null
          },
          "name": "stdout",
          "output_type": "stream",
          "text": [
            "Val loss - 0.00019566963657476524\n",
            "Epoch - 13\n"
          ]
        },
        {
          "metadata": {
            "tags": null
          },
          "name": "stderr",
          "output_type": "stream",
          "text": [
            "100%|██████████| 55728/55728 [01:59<00:00, 465.88it/s]\n"
          ]
        },
        {
          "metadata": {
            "tags": null
          },
          "name": "stdout",
          "output_type": "stream",
          "text": [
            "Train loss - 0.0002034570151611508\n",
            "Epoch - 13\n"
          ]
        },
        {
          "metadata": {
            "tags": null
          },
          "name": "stderr",
          "output_type": "stream",
          "text": [
            "100%|██████████| 27449/27449 [00:18<00:00, 1503.64it/s]\n"
          ]
        },
        {
          "metadata": {
            "tags": null
          },
          "name": "stdout",
          "output_type": "stream",
          "text": [
            "Val loss - 0.00020812959777003357\n",
            "Epoch - 14\n"
          ]
        },
        {
          "metadata": {
            "tags": null
          },
          "name": "stderr",
          "output_type": "stream",
          "text": [
            "100%|██████████| 55728/55728 [01:58<00:00, 468.40it/s]\n"
          ]
        },
        {
          "metadata": {
            "tags": null
          },
          "name": "stdout",
          "output_type": "stream",
          "text": [
            "Train loss - 0.00018702223238214837\n",
            "Epoch - 14\n"
          ]
        },
        {
          "metadata": {
            "tags": null
          },
          "name": "stderr",
          "output_type": "stream",
          "text": [
            "100%|██████████| 27449/27449 [00:18<00:00, 1448.02it/s]\n"
          ]
        },
        {
          "metadata": {
            "tags": null
          },
          "name": "stdout",
          "output_type": "stream",
          "text": [
            "Val loss - 0.00040687397149293377\n",
            "Epoch - 15\n"
          ]
        },
        {
          "metadata": {
            "tags": null
          },
          "name": "stderr",
          "output_type": "stream",
          "text": [
            "100%|██████████| 55728/55728 [01:58<00:00, 470.89it/s]\n"
          ]
        },
        {
          "metadata": {
            "tags": null
          },
          "name": "stdout",
          "output_type": "stream",
          "text": [
            "Train loss - 0.00018790831606463654\n",
            "Epoch - 15\n"
          ]
        },
        {
          "metadata": {
            "tags": null
          },
          "name": "stderr",
          "output_type": "stream",
          "text": [
            "100%|██████████| 27449/27449 [00:18<00:00, 1473.48it/s]\n"
          ]
        },
        {
          "metadata": {
            "tags": null
          },
          "name": "stdout",
          "output_type": "stream",
          "text": [
            "Val loss - 0.00014868029854236397\n",
            "Epoch - 16\n"
          ]
        },
        {
          "output_type": "stream",
          "name": "stderr",
          "text": [
            "100%|██████████| 55728/55728 [01:58<00:00, 469.53it/s]\n"
          ]
        },
        {
          "output_type": "stream",
          "name": "stdout",
          "text": [
            "Train loss - 0.00017401488180282792\n",
            "Epoch - 16\n"
          ]
        },
        {
          "output_type": "stream",
          "name": "stderr",
          "text": [
            "100%|██████████| 27449/27449 [00:17<00:00, 1536.29it/s]\n"
          ]
        },
        {
          "output_type": "stream",
          "name": "stdout",
          "text": [
            "Val loss - 0.000242404657632191\n",
            "Epoch - 17\n"
          ]
        },
        {
          "output_type": "stream",
          "name": "stderr",
          "text": [
            "100%|██████████| 55728/55728 [01:58<00:00, 469.24it/s]\n"
          ]
        },
        {
          "output_type": "stream",
          "name": "stdout",
          "text": [
            "Train loss - 0.00017242196153420322\n",
            "Epoch - 17\n"
          ]
        },
        {
          "output_type": "stream",
          "name": "stderr",
          "text": [
            "100%|██████████| 27449/27449 [00:18<00:00, 1473.14it/s]\n"
          ]
        },
        {
          "output_type": "stream",
          "name": "stdout",
          "text": [
            "Val loss - 0.000141520876270962\n",
            "Epoch - 18\n"
          ]
        },
        {
          "output_type": "stream",
          "name": "stderr",
          "text": [
            "100%|██████████| 55728/55728 [01:57<00:00, 472.81it/s]\n"
          ]
        },
        {
          "output_type": "stream",
          "name": "stdout",
          "text": [
            "Train loss - 0.00015867900100289073\n",
            "Epoch - 18\n"
          ]
        },
        {
          "output_type": "stream",
          "name": "stderr",
          "text": [
            "100%|██████████| 27449/27449 [00:18<00:00, 1480.22it/s]\n"
          ]
        },
        {
          "output_type": "stream",
          "name": "stdout",
          "text": [
            "Val loss - 0.00021597747905627017\n",
            "Epoch - 19\n"
          ]
        },
        {
          "output_type": "stream",
          "name": "stderr",
          "text": [
            "100%|██████████| 55728/55728 [01:58<00:00, 470.04it/s]\n"
          ]
        },
        {
          "output_type": "stream",
          "name": "stdout",
          "text": [
            "Train loss - 0.0001871202584092813\n",
            "Epoch - 19\n"
          ]
        },
        {
          "output_type": "stream",
          "name": "stderr",
          "text": [
            "100%|██████████| 27449/27449 [00:17<00:00, 1532.87it/s]\n"
          ]
        },
        {
          "output_type": "stream",
          "name": "stdout",
          "text": [
            "Val loss - 0.00012410544122863518\n",
            "Epoch - 20\n"
          ]
        },
        {
          "output_type": "stream",
          "name": "stderr",
          "text": [
            "100%|██████████| 55728/55728 [01:58<00:00, 470.63it/s]\n"
          ]
        },
        {
          "output_type": "stream",
          "name": "stdout",
          "text": [
            "Train loss - 0.00017836886276082164\n",
            "Epoch - 20\n"
          ]
        },
        {
          "output_type": "stream",
          "name": "stderr",
          "text": [
            "100%|██████████| 27449/27449 [00:18<00:00, 1459.64it/s]"
          ]
        },
        {
          "output_type": "stream",
          "name": "stdout",
          "text": [
            "Val loss - 0.00014379022629873152\n"
          ]
        },
        {
          "output_type": "stream",
          "name": "stderr",
          "text": [
            "\n"
          ]
        }
      ]
    },
    {
      "cell_type": "markdown",
      "source": [
        "## Results"
      ],
      "metadata": {
        "id": "Ysf9LJCDWsZD"
      }
    },
    {
      "cell_type": "code",
      "source": [
        "plt.rcParams['figure.figsize'] = (20, 10)\n",
        "plt.plot(train_losses, '-o')\n",
        "plt.plot(val_losses, '-o')\n",
        "plt.xlabel('Epoch')\n",
        "plt.ylabel('Loss')\n",
        "plt.legend(['Train', 'Val'])\n",
        "plt.title('Loss on train and val data')\n",
        "plt.show()"
      ],
      "metadata": {
        "colab": {
          "base_uri": "https://localhost:8080/",
          "height": 799
        },
        "id": "AbG6DJ5jVm1c",
        "outputId": "829c72b4-07bb-402b-a4da-4268d39d37d6"
      },
      "execution_count": 37,
      "outputs": [
        {
          "output_type": "display_data",
          "data": {
            "text/plain": [
              "<Figure size 2000x1000 with 1 Axes>"
            ],
            "image/png": "[encoded data removed]"
          },
          "metadata": {}
        }
      ]
    },
    {
      "cell_type": "code",
      "source": [
        "model.eval()\n",
        "y_pred = model(torch.Tensor(X_test.values).to(device))"
      ],
      "metadata": {
        "id": "hPQBpxTSzbrC"
      },
      "execution_count": 38,
      "outputs": []
    },
    {
      "cell_type": "code",
      "source": [
        "criterion(y_pred, torch.Tensor(y_test.values).to(device)).item()"
      ],
      "metadata": {
        "colab": {
          "base_uri": "https://localhost:8080/"
        },
        "id": "7C6BAf1OEo7F",
        "outputId": "33bc157a-b362-4243-fac0-350e0d7a2e3b"
      },
      "execution_count": 39,
      "outputs": [
        {
          "output_type": "execute_result",
          "data": {
            "text/plain": [
              "0.00014379314961843193"
            ]
          },
          "metadata": {},
          "execution_count": 39
        }
      ]
    },
    {
      "cell_type": "code",
      "source": [
        "criterion(model(torch.Tensor(X_train.values).to(device)), torch.Tensor(y_train.values).to(device))"
      ],
      "metadata": {
        "colab": {
          "base_uri": "https://localhost:8080/"
        },
        "id": "R6b3heRjOWGK",
        "outputId": "101feaf2-c932-4c90-be6d-7ee717e382e5"
      },
      "execution_count": 40,
      "outputs": [
        {
          "output_type": "execute_result",
          "data": {
            "text/plain": [
              "tensor(0.0001, device='cuda:0', grad_fn=<MseLossBackward0>)"
            ]
          },
          "metadata": {},
          "execution_count": 40
        }
      ]
    },
    {
      "cell_type": "code",
      "source": [
        "from sklearn.metrics import r2_score\n",
        "\n",
        "print(r2_score(y_test.values.reshape(-1, 1),\n",
        "               y_pred.squeeze(dim=1).cpu().detach().numpy()))"
      ],
      "metadata": {
        "colab": {
          "base_uri": "https://localhost:8080/"
        },
        "id": "_01lVRczV8iQ",
        "outputId": "fd13230f-88e4-467f-90f2-116d612b646b"
      },
      "execution_count": 41,
      "outputs": [
        {
          "output_type": "stream",
          "name": "stdout",
          "text": [
            "0.9998561607071867\n"
          ]
        }
      ]
    },
    {
      "cell_type": "markdown",
      "source": [
        "Loss on test data = 0.0002451192121952772\n",
        "\n",
        "$R^2$ score on test data = 0.9997548021552319"
      ],
      "metadata": {
        "id": "Ouk4ZlnJVkWX"
      }
    },
    {
      "cell_type": "code",
      "source": [
        "n_sample = 150\n",
        "test_sample = y_test.values.reshape(-1, 1)[:n_sample]\n",
        "predicted_sample = y_pred.squeeze(dim=1).cpu().detach().numpy()[:n_sample]\n",
        "\n",
        "\n",
        "plt.figure(figsize=(10, 5))\n",
        "plt.plot(range(len(test_sample)), test_sample, label='Real')\n",
        "plt.plot(range(len(predicted_sample)), predicted_sample, label='Predicted')\n",
        "plt.xlabel('index')\n",
        "plt.ylabel('torque')\n",
        "plt.legend()\n",
        "plt.title(\"Actual vs Predicted on test data \"\n",
        "            f\"(Model performance on {n_sample} samples)\")\n",
        "plt.show()"
      ],
      "metadata": {
        "colab": {
          "base_uri": "https://localhost:8080/",
          "height": 487
        },
        "id": "lzeM89YVIRo7",
        "outputId": "a53f673c-55e0-4f68-9598-e0c3d9f33bde"
      },
      "execution_count": 42,
      "outputs": [
        {
          "output_type": "display_data",
          "data": {
            "text/plain": [
              "<Figure size 1000x500 with 1 Axes>"
            ],
            "image/png": "[encoded data removed]"
          },
          "metadata": {}
        }
      ]
    },
    {
      "cell_type": "code",
      "source": [
        "for param in model.parameters():\n",
        "    print(param.data)"
      ],
      "metadata": {
        "id": "Y4iOw5EET0Hw",
        "colab": {
          "base_uri": "https://localhost:8080/"
        },
        "outputId": "cb89ebf6-0a23-4bf4-82a2-ee84ea54388c"
      },
      "execution_count": 43,
      "outputs": [
        {
          "output_type": "stream",
          "name": "stdout",
          "text": [
            "tensor([[ 9.8898e-01, -1.1762e-02, -4.7085e-02,  4.9736e-01,  5.5699e-02,\n",
            "         -4.7804e-01, -8.5255e-01, -1.4029e+00,  3.5765e-02,  5.3947e-02,\n",
            "         -3.4543e-04],\n",
            "        [ 3.4092e-01,  3.0897e-02, -2.6934e-02, -5.9311e-01, -7.4583e-02,\n",
            "          9.7737e-01, -9.9161e-01,  1.2203e+00, -1.7843e-02,  3.1454e-01,\n",
            "         -5.4055e-02],\n",
            "        [ 1.0804e-01, -2.6404e+00,  4.2195e-01, -6.7685e-02, -5.3210e-01,\n",
            "         -6.7844e-01, -4.5292e-01, -4.3053e-01, -4.1223e-02,  4.1306e-03,\n",
            "         -7.3109e-02],\n",
            "        [-3.3405e-01, -6.3010e-02, -9.8368e-02,  5.0484e-01, -1.0360e-01,\n",
            "         -2.4718e-01, -1.1964e-01,  1.1366e+00, -6.7754e-02,  2.6167e-01,\n",
            "         -8.5578e-02],\n",
            "        [-3.9915e-01, -7.3930e-02, -5.8435e-02, -4.0743e-01,  4.1465e-02,\n",
            "         -4.9581e-01, -9.3523e-03,  1.6525e+00, -1.0596e-01,  7.1794e-03,\n",
            "          1.5939e-02],\n",
            "        [ 6.0140e-01, -2.6856e-03,  2.9874e-02,  5.6728e-01, -3.0784e-02,\n",
            "         -1.3719e+00, -1.1637e+00,  1.5636e+00,  2.3540e-02, -3.7861e-02,\n",
            "          2.0654e-02],\n",
            "        [-4.7583e-01,  1.0803e-02, -4.3781e-02, -7.0201e-01,  5.4501e-02,\n",
            "          7.1211e-01,  4.7724e-01, -2.0289e+00, -6.7944e-02,  1.2542e-01,\n",
            "         -2.5732e-02],\n",
            "        [ 3.2063e-01, -3.7615e-02,  1.5490e-02,  3.2119e-01,  2.5658e-02,\n",
            "         -2.8689e+00, -1.9283e-02, -2.3082e+00,  5.2257e-02, -2.7685e-01,\n",
            "          6.0904e-02],\n",
            "        [ 5.2622e-01,  4.5435e-02,  4.5206e-02,  7.4792e-01, -7.8164e-02,\n",
            "         -9.3774e-01, -1.8520e+00, -1.2975e+00,  3.2948e-03,  8.8554e-02,\n",
            "         -1.5727e-02],\n",
            "        [ 2.4735e-01, -4.4564e-02, -3.2119e-02, -1.3717e-01,  7.9564e-02,\n",
            "         -1.0129e+00,  2.2809e-01,  2.6067e+00,  7.3509e-02, -1.7893e-01,\n",
            "          2.8335e-02],\n",
            "        [-1.7454e-01,  5.4418e-01,  5.5627e-01, -1.0299e+00, -1.4911e-01,\n",
            "         -1.7428e+00,  1.8715e-01,  9.2661e-01,  1.4455e-01, -8.7762e-01,\n",
            "          1.0622e-01]], device='cuda:0')\n",
            "tensor([ 0.9354, -0.4672, -1.6595, -0.1682, -0.9817,  1.4609, -1.4931,  0.8691,\n",
            "        -0.0385,  1.2449, -1.3920], device='cuda:0')\n",
            "tensor([[-8.4665e-01, -8.7847e-02, -8.4808e+00, -1.7503e+00, -8.4105e-03,\n",
            "          1.1135e+00, -1.0775e+00, -9.3846e-01,  9.6599e-01, -1.1039e+00,\n",
            "         -2.5831e-01],\n",
            "        [-3.7712e-01,  2.4361e-01,  2.1482e-01,  7.3588e-01,  1.3375e-01,\n",
            "          1.6854e-01,  2.6858e+00, -1.1825e+00, -8.5775e-02, -3.1719e-01,\n",
            "         -2.4105e-01],\n",
            "        [ 5.7758e-02,  1.1435e-01,  9.9725e-02, -2.0994e-01,  7.2355e-02,\n",
            "         -1.0313e-01, -3.9201e-01, -4.5035e-02, -2.4188e-01, -4.2883e-02,\n",
            "          3.4789e-01],\n",
            "        [ 8.6226e-01,  1.2552e-02,  3.9654e-01, -5.8571e-02,  5.8657e-02,\n",
            "         -2.7699e-01,  5.5566e-02,  4.3668e-01,  8.7007e-01,  1.2984e-01,\n",
            "          1.1165e-01],\n",
            "        [ 4.4882e-01,  2.5256e-01, -4.3340e-01,  1.5706e-01, -1.3727e-01,\n",
            "         -8.2893e-01,  6.9818e-01,  6.2533e-01,  8.2697e-01, -8.1230e-01,\n",
            "         -1.1134e-01],\n",
            "        [-2.1850e-01,  5.7520e-02,  4.4829e-01,  3.6456e-01,  3.9749e-02,\n",
            "          4.5872e-01,  1.5785e+00, -2.8427e-01,  5.1994e-01,  8.9750e-02,\n",
            "         -1.0011e+00],\n",
            "        [-2.6902e-01,  1.2205e-01,  8.9647e-01,  1.4010e-01, -1.7940e+00,\n",
            "         -1.2459e+00,  5.0638e-01,  8.9606e-01,  5.2939e-01, -2.3661e+00,\n",
            "         -2.1883e+00],\n",
            "        [ 3.7453e-01,  2.0314e-01,  5.8771e-01, -1.5073e-01,  4.7700e-01,\n",
            "         -4.5463e-01, -6.6683e-01, -4.7868e-01, -1.0357e+00,  4.6834e-02,\n",
            "         -4.2943e+00],\n",
            "        [ 1.6113e-01,  3.1609e-01,  2.0567e+00, -5.0815e-01,  8.4230e-01,\n",
            "          2.9913e-01,  4.4552e-01, -1.4719e-01,  4.1521e-02, -3.4815e-01,\n",
            "         -1.2669e+00],\n",
            "        [ 1.3717e-01, -4.0065e+00, -3.2433e-01, -1.4766e-01,  1.0373e-01,\n",
            "         -9.4625e-01, -1.3909e+00, -9.2245e-01,  7.5865e-01, -2.0644e-01,\n",
            "         -5.3628e-01],\n",
            "        [-7.7430e-02,  8.0720e-01,  5.7704e-01, -1.2999e-01,  7.0924e-01,\n",
            "          6.9962e-01,  9.3836e-01, -3.6447e-01,  5.7139e-02,  7.4565e-01,\n",
            "          3.2830e-01],\n",
            "        [-3.8269e-01, -2.0380e-01, -2.9235e-02,  8.7260e-03, -2.3457e+00,\n",
            "          4.8602e-01, -2.2349e+00, -3.3193e-01,  9.5078e-01, -9.4467e-01,\n",
            "         -4.5301e-01]], device='cuda:0')\n",
            "tensor([ 0.1528,  0.5159,  0.3678, -0.0043, -1.0167, -0.2277, -0.0857,  0.1832,\n",
            "        -0.1290, -0.2703,  0.3504,  0.5945], device='cuda:0')\n",
            "tensor([[-0.1219, -0.6933, -0.1681, -0.1421, -1.9349, -0.0187,  1.0335, -0.4069,\n",
            "         -3.8755, -0.1488, -0.8050, -0.3595],\n",
            "        [ 0.1482,  0.1388, -0.1431, -0.0994,  0.0165, -0.2441, -0.1134, -0.1636,\n",
            "          0.0797,  0.1578, -0.1047, -0.0201],\n",
            "        [ 0.1285,  0.0051,  0.2469,  0.3809,  0.6378,  0.1232,  0.0673,  0.1244,\n",
            "          0.0392,  0.1350, -0.0652,  0.1480],\n",
            "        [-0.1342, -0.0297, -0.2501, -0.1534,  0.0071, -0.3999, -0.2180, -0.1173,\n",
            "         -0.1839, -0.1603,  0.0376, -0.1360],\n",
            "        [ 0.2699,  0.1771,  0.1528, -0.1531,  0.1609,  0.1794, -0.2186, -0.0496,\n",
            "         -0.1155, -2.7450,  0.5656, -0.0514]], device='cuda:0')\n",
            "tensor([ 0.2878, -0.0984,  0.5956, -0.3204,  0.1077], device='cuda:0')\n",
            "tensor([[-0.8770, -0.2654, -0.1622, -0.0969,  0.2463]], device='cuda:0')\n",
            "tensor([-0.1247], device='cuda:0')\n"
          ]
        }
      ]
    }
  ]
}